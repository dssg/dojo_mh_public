{
 "cells": [
  {
   "cell_type": "code",
   "execution_count": null,
   "id": "5b24e3a7-b213-44c6-8aeb-cd93922ed27a",
   "metadata": {},
   "outputs": [],
   "source": [
    "import os\n",
    "import numpy as np\n",
    "import pandas as pd\n",
    "import seaborn as sns\n",
    "import aequitas.plot as ap\n",
    "from aequitas.bias import Bias\n",
    "from aequitas.group import Group\n",
    "from datetime import datetime\n",
    "from matplotlib import pyplot as plt\n",
    "from dateutil.relativedelta import relativedelta\n",
    "from utils.constants import PREDICTIONS_DIR, CONFIGS_PATH\n",
    "import postmodeling.analyze_labels as analyze_labels\n",
    "from sklearn.metrics import confusion_matrix, ConfusionMatrixDisplay\n",
    "from postmodeling.evaluation import (\n",
    "    get_evaluation,\n",
    "    get_predictions,\n",
    "    rank_models,\n",
    "    get_best_modelsets,\n",
    "    get_confusion_matrix,\n",
    "    plot_confusion_matrix,\n",
    "    get_features_test_pred,\n",
    "    create_crosstabs,\n",
    "    get_models_info,\n",
    "    get_model_info_from_experiment_ids,\n",
    "    get_test_pred_labels_from_csv,\n",
    "    _calculate_metric\n",
    ")\n",
    "from postmodeling.plotting import (\n",
    "    plot_pr_curve,\n",
    "    plot_score_dist,\n",
    "    plot_crosstabs_models,\n",
    "    plot_feature_importance,\n",
    "    plot_disparity\n",
    ")\n",
    "from utils.helpers import (\n",
    "    get_database_connection,\n",
    "    get_model_ids\n",
    ")\n",
    "from postmodeling.fairness import (\n",
    "    get_score_attr_df,\n",
    "    get_group_metrics,\n",
    "    get_demographics_data,\n",
    "    get_absolute_metrics,\n",
    "    enrich_demographics\n",
    ")\n",
    "from postmodeling.analyze_labels import (\n",
    "    get_preds_split_labels,\n",
    "    get_label_aggregations,\n",
    "    plot_split_labels\n",
    ")\n",
    "from altair_saver import save"
   ]
  },
  {
   "cell_type": "code",
   "execution_count": null,
   "id": "e0ce0cba-b094-4546-ac20-5125daf16b08",
   "metadata": {},
   "outputs": [],
   "source": [
    "import warnings\n",
    "warnings.filterwarnings('ignore') # To ignore seaborn warnings"
   ]
  },
  {
   "cell_type": "markdown",
   "id": "3356ef9a-11e3-423c-97b1-09332ae527d3",
   "metadata": {},
   "source": [
    "# Overview\n",
    "\n",
    "This notebook runs the postmodeling pipeline for a particular model. In particular, we \n",
    "\n",
    "    [x] choose the best model and best baseline for the particular county and a particular label group.\n",
    "    [x] visualize the P/R curve for this model against the best baseline model.\n",
    "    [x] visualize the feature importance for the best model.\n",
    "    [x] show the cross tabs for the best model across sex, race, and age.\n",
    "    [x] do the fairness audit for sex and race.\n",
    "    [x] analyze which labels the model is picking up on."
   ]
  },
  {
   "cell_type": "code",
   "execution_count": null,
   "id": "86c61007-3301-4df9-af52-607227455f6c",
   "metadata": {},
   "outputs": [],
   "source": [
    "COUNTY = 'joco'\n",
    "COUNTY_k = 75\n",
    "LABEL_GROUP = 'Potentially fatal'\n",
    "MONTHS_FUTURE = 6\n",
    "MIN_DATES = 6 if COUNTY == 'doco' else 4\n",
    "FIGSIZE = (16, 12)\n",
    "db_conn = get_database_connection()\n",
    "\n",
    "plt.rcParams[\"figure.figsize\"] = FIGSIZE"
   ]
  },
  {
   "cell_type": "markdown",
   "id": "b8990022-c909-43fd-9400-6794dc34a4e5",
   "metadata": {},
   "source": [
    "# Model selection\n",
    "Here we pick the best model and baseline for the particular county."
   ]
  },
  {
   "cell_type": "code",
   "execution_count": null,
   "id": "bea5ac10-351b-4e8c-a3ad-343236a3b7fd",
   "metadata": {},
   "outputs": [],
   "source": [
    "# Select the best models for each label group\n",
    "best_models = get_best_modelsets(db_conn, county=COUNTY, rank_on='regret', top=1, months_future=MONTHS_FUTURE, min_dates=MIN_DATES)"
   ]
  },
  {
   "cell_type": "code",
   "execution_count": null,
   "id": "5cf46ab3-1fa7-4958-8331-b4adb51983ce",
   "metadata": {},
   "outputs": [],
   "source": [
    "best_models"
   ]
  },
  {
   "cell_type": "code",
   "execution_count": null,
   "id": "1a19f07c-ad22-434b-971d-e4ed43d170bf",
   "metadata": {},
   "outputs": [],
   "source": [
    "best_baselines = get_best_modelsets(\n",
    "    db_conn, county=COUNTY, rank_on='regret', top=1,\n",
    "    model_types=['FeatureRanker', 'LinearRanker'], exclude_types=None, months_future=MONTHS_FUTURE, min_dates=MIN_DATES\n",
    ")"
   ]
  },
  {
   "cell_type": "code",
   "execution_count": null,
   "id": "1da9981b-1dea-4caa-a1d7-15c6affb1605",
   "metadata": {},
   "outputs": [],
   "source": [
    "best_baselines"
   ]
  },
  {
   "cell_type": "markdown",
   "id": "fe90b43c-b799-449c-8a5b-2c5c235e6542",
   "metadata": {},
   "source": [
    "# Precision / Recall curve\n",
    "Here we visualize the precision and recall curve for the best model and the best baseline for the latest validation split."
   ]
  },
  {
   "cell_type": "code",
   "execution_count": null,
   "id": "5fc194d6-15b2-4c04-8c5d-560bf8247774",
   "metadata": {},
   "outputs": [],
   "source": [
    "def get_best_model_ids(best_models):\n",
    "    # Get the best model set id\n",
    "    best_model_set_id = best_models[best_models['label_group'] == LABEL_GROUP]['model_set_id'].values[0]\n",
    "    \n",
    "    # Get the model id for last split\n",
    "    model_ids = get_model_ids(db_conn, best_model_set_id)\n",
    "    \n",
    "    return model_ids\n",
    "    \n",
    "def get_best_model_id_last(best_models):\n",
    "    model_ids = get_best_model_ids(best_models)\n",
    "    return np.min(model_ids)\n",
    "    \n",
    "def get_best_evaluation(best_models, model_type='Model'):\n",
    "    model_id = get_best_model_id_last(best_models)\n",
    "    \n",
    "    # Get the evaluation for this model id\n",
    "    df_eval = get_evaluation(db_conn, model_id)\n",
    "    df_eval = df_eval[df_eval['county'] == COUNTY]\n",
    "    df_eval['Type'] = model_type\n",
    "    \n",
    "    return df_eval"
   ]
  },
  {
   "cell_type": "code",
   "execution_count": null,
   "id": "8d2aa1ce-814c-4246-a2cc-eb931add7aef",
   "metadata": {},
   "outputs": [],
   "source": [
    "df_best = get_best_evaluation(best_models)"
   ]
  },
  {
   "cell_type": "code",
   "execution_count": null,
   "id": "25d12882-8cd0-4055-9972-52738e8ed465",
   "metadata": {},
   "outputs": [],
   "source": [
    "df_baseline = get_best_evaluation(best_baselines, model_type='Baseline')"
   ]
  },
  {
   "cell_type": "code",
   "execution_count": null,
   "id": "b2c98ab5-5dbf-48db-8a39-44401326c7c7",
   "metadata": {},
   "outputs": [],
   "source": [
    "df = pd.concat([df_best, df_baseline])"
   ]
  },
  {
   "cell_type": "code",
   "execution_count": null,
   "id": "95890dc9-6012-40cf-a484-5fee1ff5a7a0",
   "metadata": {},
   "outputs": [],
   "source": [
    "p = plot_pr_curve(df, county=COUNTY, figsize=FIGSIZE, label_group=LABEL_GROUP);"
   ]
  },
  {
   "cell_type": "markdown",
   "id": "13c08b27-7af9-4b5a-9177-fe7ee0586f7d",
   "metadata": {},
   "source": [
    "# Score distribution\n",
    "Here we visualize the score distribution for the best model."
   ]
  },
  {
   "cell_type": "code",
   "execution_count": null,
   "id": "1df95fa8-ceaf-448b-90dd-01de1f12757f",
   "metadata": {},
   "outputs": [],
   "source": [
    "def add_predictions(df_eval, k=75):\n",
    "    df_eval = df_eval.copy()\n",
    "    y_pred = np.where(np.logical_and(df_eval[\"county\"] == COUNTY, df_eval[\"county_k\"] <= k), 1, 0)\n",
    "    \n",
    "    df_eval['predictions'] = y_pred\n",
    "    return df_eval"
   ]
  },
  {
   "cell_type": "code",
   "execution_count": null,
   "id": "1ade4120-25d0-4262-b63d-7ae07ba45969",
   "metadata": {},
   "outputs": [],
   "source": [
    "# Drop duplicate entries (precision, recall)\n",
    "df_score = df_best[df_best['metric'] == 'precision']\n",
    "df_score = add_predictions(df_score, k=COUNTY_k)"
   ]
  },
  {
   "cell_type": "code",
   "execution_count": null,
   "id": "3f467ba0-bd4d-40d6-b675-c446f1082501",
   "metadata": {},
   "outputs": [],
   "source": [
    "plot_score_dist(df_score);"
   ]
  },
  {
   "cell_type": "markdown",
   "id": "f8ae167c-1d87-48bf-9320-f56f48375d80",
   "metadata": {},
   "source": [
    "# Feature importance\n",
    "Here we plot the feature importance of the best model."
   ]
  },
  {
   "cell_type": "code",
   "execution_count": null,
   "id": "203468ae-e844-47c8-b16f-d10b4295ae58",
   "metadata": {},
   "outputs": [],
   "source": [
    "latest_model_id = get_best_model_id_last(best_models)\n",
    "p = plot_feature_importance(db_conn, [latest_model_id]);"
   ]
  },
  {
   "cell_type": "code",
   "execution_count": null,
   "id": "a0bc7e8d-9dfc-4d6d-9dee-2960121187a8",
   "metadata": {},
   "outputs": [],
   "source": [
    "#p.get_figure().savefig('feature_importance_johnson.eps', dpi=200, bbox_inches='tight')"
   ]
  },
  {
   "cell_type": "code",
   "execution_count": null,
   "id": "f6ea4500-7f10-47b8-8ece-ab697333b30e",
   "metadata": {},
   "outputs": [],
   "source": [
    "# Custom feature names for best Johnson county model (random forest)\n",
    "feature_names = [\n",
    "    'Age', 'Any event (DSL)', 'Ambulance run (DSL)', 'Douglas service (DSL)', 'JIMS charges (DSL)',\n",
    "    'Jail booking (DSF)', 'Diagnosis (DSL)', 'JIMS prosecution charges (DSL)', 'Jail booking (DSL)', 'Admission MHC (DSL)',\n",
    "    'Drug ambulance run (DSL)', 'Overall ambulance runs', 'Alcohol ambulance run (DSL)', 'Johnson service (DSL)',\n",
    "    'Ambulance runs last 5 years', 'Overall jail bookings', 'Diagnosis MHC (DSL)', 'Discharges MHC (DSL)', 'Ambulance runs last 2 years', 'Drug ambulance runs 2 years'\n",
    "]\n",
    "#p = plot_feature_importance(db_conn, [latest_model_id], feature_names=feature_names);"
   ]
  },
  {
   "cell_type": "markdown",
   "id": "dbb82933-208c-43cc-9964-fbccdda235ca",
   "metadata": {},
   "source": [
    "# Confusion matrix and crosstabs\n",
    "Here we look the confusion matrix and crosstabs for the best model and the latest split."
   ]
  },
  {
   "cell_type": "markdown",
   "id": "b9489baa-5415-4fc1-9437-2de1dc32823b",
   "metadata": {},
   "source": [
    "## Confusion matrix\n",
    "Here we see the confusion matrix for the best model and latest split."
   ]
  },
  {
   "cell_type": "code",
   "execution_count": null,
   "id": "2557cebf-4edb-47df-a417-80e03105ad9a",
   "metadata": {},
   "outputs": [],
   "source": [
    "plot_confusion_matrix(confusion_matrix(df_score.label, df_score.predictions)).plot();"
   ]
  },
  {
   "cell_type": "markdown",
   "id": "0f04ca77-24b3-49f1-a513-1c2ad5e5ac92",
   "metadata": {},
   "source": [
    "## Crosstabs: Sex"
   ]
  },
  {
   "cell_type": "code",
   "execution_count": null,
   "id": "638712c9-1056-4e3f-b46d-e162ad83981e",
   "metadata": {},
   "outputs": [],
   "source": [
    "doco_k = None if COUNTY == 'joco' else COUNTY_k\n",
    "joco_k = None if COUNTY == 'doco' else COUNTY_k\n",
    "\n",
    "# Crosstabs: categorical demographics\n",
    "features_test_pred = get_features_test_pred(db_conn, latest_model_id, 'demographics_cat', doco_k=doco_k, joco_k=joco_k)\n",
    "features_test_pred = features_test_pred.fillna('Missing')"
   ]
  },
  {
   "cell_type": "code",
   "execution_count": null,
   "id": "e07f99e4-09cf-4b94-bc3c-122f6a736711",
   "metadata": {},
   "outputs": [],
   "source": [
    "label_crosstab, pred_crosstab = create_crosstabs(features_test_pred, \"dem_sex\")\n",
    "print(\"SEX:\")\n",
    "print('----------------------------------')\n",
    "print(label_crosstab)\n",
    "print('----------------------------------')\n",
    "print(pred_crosstab)"
   ]
  },
  {
   "cell_type": "markdown",
   "id": "60a14b22-b384-47be-a8d2-8e06032499c2",
   "metadata": {},
   "source": [
    "## Crosstabs: Race"
   ]
  },
  {
   "cell_type": "code",
   "execution_count": null,
   "id": "8da3e6b5-c233-4ef8-91cc-c1aff7bf9340",
   "metadata": {},
   "outputs": [],
   "source": [
    "label_crosstab, pred_crosstab = create_crosstabs(features_test_pred, \"dem_race\")\n",
    "print(\"RACE:\")\n",
    "print('----------------------------------')\n",
    "print(label_crosstab)\n",
    "print('----------------------------------')\n",
    "print(pred_crosstab)"
   ]
  },
  {
   "cell_type": "markdown",
   "id": "29514a0e-0f7c-4f18-8343-c81a821fc5b5",
   "metadata": {},
   "source": [
    "## Crosstabs: Age"
   ]
  },
  {
   "cell_type": "code",
   "execution_count": null,
   "id": "02a261c8-7a10-46fc-acd6-7bceed9d1983",
   "metadata": {},
   "outputs": [],
   "source": [
    "# Crosstabs: demographics numeric \n",
    "features_test_pred_age = get_features_test_pred(db_conn, latest_model_id, 'demographics_num', doco_k=doco_k, joco_k=joco_k)\n",
    "\n",
    "# Age spliting buckets\n",
    "bins = [0.0, 20.0, 40.0, 65.0, np.inf]\n",
    "names = ['1. <20', '2. 21-40', '3. 41-65', '4. 66+']\n",
    "split_tuple = (bins, names)"
   ]
  },
  {
   "cell_type": "code",
   "execution_count": null,
   "id": "22a7d7a9-3616-4052-8d3f-83aeb93541c3",
   "metadata": {},
   "outputs": [],
   "source": [
    "# Age: Both Counties\n",
    "label_crosstab, pred_crosstab = create_crosstabs(features_test_pred_age, \"dem_age\", split_tuple)\n",
    "print(\"AGE:\")\n",
    "print('-----------------------------------------------------')\n",
    "print(label_crosstab)\n",
    "print('-----------------------------------------------------')\n",
    "print(pred_crosstab)"
   ]
  },
  {
   "cell_type": "markdown",
   "id": "57c981f7-c1ef-41a2-bfd0-eec03a31c7e3",
   "metadata": {},
   "source": [
    "# Fairness analysis\n",
    "Here we assess potential disparities of the best model on the latest split."
   ]
  },
  {
   "cell_type": "code",
   "execution_count": null,
   "id": "c444df63-46a3-4a84-b708-9673577a481d",
   "metadata": {},
   "outputs": [],
   "source": [
    "df_dem = get_demographics_data(db_conn, attributes=['sex', 'race', 'ethnicity'])"
   ]
  },
  {
   "cell_type": "code",
   "execution_count": null,
   "id": "9fd6862d-77ac-4130-be0b-7c615787d4e7",
   "metadata": {},
   "outputs": [],
   "source": [
    "attr_and_ref_groups = {'sex': 'MALE', 'race': 'W', 'hispanic': 'YES'}"
   ]
  },
  {
   "cell_type": "code",
   "execution_count": null,
   "id": "bb38bc7a-48c3-4ecc-8c47-848139288570",
   "metadata": {},
   "outputs": [],
   "source": [
    "# Get the score and attribute dataframe\n",
    "df_fair = get_score_attr_df(df_dem, latest_model_id)\n",
    "\n",
    "# Enrich the table with demographics from other tables (that do not have an event date)\n",
    "df_fair = enrich_demographics(df_fair, df_dem)"
   ]
  },
  {
   "cell_type": "code",
   "execution_count": null,
   "id": "42e65909-1f26-43a6-a825-64505360604e",
   "metadata": {},
   "outputs": [],
   "source": [
    "df_fair_county = df_fair[df_fair['county'] == COUNTY]\n",
    "# Calculate the metrics\n",
    "xtab, df_metrics = get_group_metrics(df_fair_county, attr_and_ref_groups)"
   ]
  },
  {
   "cell_type": "markdown",
   "id": "ed17ebc0-5d08-416d-a8ac-63ba7564ab05",
   "metadata": {},
   "source": [
    "## Disparities across Sex"
   ]
  },
  {
   "cell_type": "code",
   "execution_count": null,
   "id": "d6097ee1-3e52-48ce-9d1c-cd7db49aa72d",
   "metadata": {},
   "outputs": [],
   "source": [
    "df_fair_county[df_fair_county['county_k'] <= COUNTY_k].value_counts('sex')"
   ]
  },
  {
   "cell_type": "code",
   "execution_count": null,
   "id": "f5f9bb7e-aa03-49a2-82d8-d67c246e4198",
   "metadata": {},
   "outputs": [],
   "source": [
    "df_fair_county.value_counts('sex')"
   ]
  },
  {
   "cell_type": "code",
   "execution_count": null,
   "id": "9a95c0f0-b73b-493d-ae04-9e3a99619a13",
   "metadata": {},
   "outputs": [],
   "source": [
    "plot_disparity(df_metrics, 'precision', 'sex')"
   ]
  },
  {
   "cell_type": "code",
   "execution_count": null,
   "id": "6393eb79-ae73-4e2d-a55d-97d72a0b7787",
   "metadata": {},
   "outputs": [],
   "source": [
    "plot_disparity(df_metrics, 'tpr', 'sex')"
   ]
  },
  {
   "cell_type": "markdown",
   "id": "0bea5d90-3e5e-401b-9c7d-4668990c9758",
   "metadata": {},
   "source": [
    "## Disparities across Race"
   ]
  },
  {
   "cell_type": "code",
   "execution_count": null,
   "id": "d303e242-8503-4b74-8529-adcf2ef449c0",
   "metadata": {},
   "outputs": [],
   "source": [
    "df_fair_county[df_fair_county['county_k'] <= COUNTY_k].value_counts('race')"
   ]
  },
  {
   "cell_type": "code",
   "execution_count": null,
   "id": "d44cbebf-88a8-41c4-b292-48de356227b0",
   "metadata": {},
   "outputs": [],
   "source": [
    "df_fair_county.value_counts('race')"
   ]
  },
  {
   "cell_type": "code",
   "execution_count": null,
   "id": "19204c3a-5e32-4c0a-bedc-0464d77b1a8a",
   "metadata": {},
   "outputs": [],
   "source": [
    "df_metrics_r = df_metrics[df_metrics['attribute_value'].str.contains('B|W|I|A|MISSING')]"
   ]
  },
  {
   "cell_type": "code",
   "execution_count": null,
   "id": "b096ece9-51c9-4a2f-8887-f7ccf9ef45c9",
   "metadata": {},
   "outputs": [],
   "source": [
    "plot_disparity(df_metrics_r, 'precision', 'race')"
   ]
  },
  {
   "cell_type": "code",
   "execution_count": null,
   "id": "da2e7f57-2637-4f9a-9d6a-6ead078877e7",
   "metadata": {},
   "outputs": [],
   "source": [
    "plot_disparity(df_metrics_r, 'tpr', 'race')\n",
    "#save(p, 'race_johnson.png', dpi=600)"
   ]
  },
  {
   "cell_type": "code",
   "execution_count": null,
   "id": "d3710934-029c-439e-a5b7-a1144f0595c4",
   "metadata": {},
   "outputs": [],
   "source": [
    "# Check how many true labels\n",
    "df_metrics[['attribute_name', 'attribute_value', 'group_label_pos', 'group_size', 'tp', 'fp']]"
   ]
  },
  {
   "cell_type": "code",
   "execution_count": null,
   "id": "5eb8dfe5-0f79-4a2a-afcf-f885356d3605",
   "metadata": {},
   "outputs": [],
   "source": [
    "# Show all metrics\n",
    "get_absolute_metrics(xtab)"
   ]
  },
  {
   "cell_type": "markdown",
   "id": "a5600ee2-c259-4b7e-8284-e409719e021d",
   "metadata": {},
   "source": [
    "# Analyzing labels\n",
    "Here we look into what labels the model seems to be actually picking up, first for the next six months, then for the rest of the time period."
   ]
  },
  {
   "cell_type": "code",
   "execution_count": null,
   "id": "c267e5b4-8044-4a9d-9e6b-fd860dfa26cd",
   "metadata": {},
   "outputs": [],
   "source": [
    "def get_label_counts(df_joco, df_doco):\n",
    "    \n",
    "    if COUNTY == 'joco':\n",
    "        label_counts_all = get_label_aggregations(df_joco)\n",
    "    if COUNTY == 'doco':\n",
    "        label_counts_all = get_label_aggregations(df_doco)\n",
    "        \n",
    "    return label_counts_all"
   ]
  },
  {
   "cell_type": "code",
   "execution_count": null,
   "id": "6a2a079f-d955-46b5-8343-db6129742926",
   "metadata": {},
   "outputs": [],
   "source": [
    "best_model_ids = get_best_model_ids(best_models)"
   ]
  },
  {
   "cell_type": "code",
   "execution_count": null,
   "id": "b75e2c4c-0057-46aa-a6c5-0eaea23d3032",
   "metadata": {},
   "outputs": [],
   "source": [
    "# Get tables for just the next MONTHS_FUTURE\n",
    "df_joco, df_doco, _ = get_preds_split_labels(db_conn, best_model_ids)"
   ]
  },
  {
   "cell_type": "code",
   "execution_count": null,
   "id": "09002414-7e23-4f52-a1fd-1dc9d883f504",
   "metadata": {},
   "outputs": [],
   "source": [
    "print('COUNTS FOR THE VALIDATION PERIOD OF ' + str(MONTHS_FUTURE) + ' MONTHS')\n",
    "label_counts = get_label_counts(df_joco, df_doco)\n",
    "display(label_counts)"
   ]
  },
  {
   "cell_type": "code",
   "execution_count": null,
   "id": "aff6a63f-9c67-453e-93f4-a9fe68a7378d",
   "metadata": {},
   "outputs": [],
   "source": [
    "# Plot just within the validation window:\n",
    "plot_split_labels(label_counts, latest_model_id, months_future=MONTHS_FUTURE);"
   ]
  },
  {
   "cell_type": "code",
   "execution_count": null,
   "id": "610b5d08-374c-405b-8661-96a404e68f89",
   "metadata": {},
   "outputs": [],
   "source": [
    "# Get tables for all time\n",
    "df_joco_all, df_doco_all, _ = get_preds_split_labels(db_conn, best_model_ids, label_tablename='split_labels_all_time')"
   ]
  },
  {
   "cell_type": "code",
   "execution_count": null,
   "id": "6eedf774-c04f-460f-a81e-5bc7f05e48f5",
   "metadata": {},
   "outputs": [],
   "source": [
    "print('\\nCOUNTS FOR ALL TIME IN FUTURE OF THE AS OF DATE')\n",
    "label_counts_all = get_label_counts(df_joco_all, df_doco_all)\n",
    "display(label_counts_all)"
   ]
  },
  {
   "cell_type": "code",
   "execution_count": null,
   "id": "4714f113-f056-4678-9fcd-efd206d8632e",
   "metadata": {},
   "outputs": [],
   "source": [
    "# Since we look at the latest split, this is very similar to the first plot, maybe not necessary to show it at all\n",
    "#plot_split_labels(label_counts_all, latest_model_id, months_future='any');"
   ]
  }
 ],
 "metadata": {
  "kernelspec": {
   "display_name": "Python 3 (ipykernel)",
   "language": "python",
   "name": "python3"
  },
  "language_info": {
   "codemirror_mode": {
    "name": "ipython",
    "version": 3
   },
   "file_extension": ".py",
   "mimetype": "text/x-python",
   "name": "python",
   "nbconvert_exporter": "python",
   "pygments_lexer": "ipython3",
   "version": "3.10.4"
  }
 },
 "nbformat": 4,
 "nbformat_minor": 5
}
