{
 "cells": [
  {
   "cell_type": "markdown",
   "id": "6f2c4dc8-df25-46bd-99da-d52bb94b1485",
   "metadata": {},
   "source": [
    "# Suicide and fatal overdoses data questions\n",
    "\n",
    "This notebook contains a cursory look of fatal overdoses and suicide data. Currently,\n",
    "the presence of previous drug history and suicidality is determined solely by ambulance\n",
    "data. A future iteration should look at more carefully aggregating this historical data\n",
    "from additional data sources."
   ]
  },
  {
   "cell_type": "code",
   "execution_count": null,
   "id": "1e6bc517-1016-43a6-a4d9-6494215562fa",
   "metadata": {},
   "outputs": [],
   "source": [
    "%load_ext autoreload\n",
    "%autoreload 2"
   ]
  },
  {
   "cell_type": "code",
   "execution_count": null,
   "id": "e38919c9-d453-4cca-924a-39f70acd7553",
   "metadata": {},
   "outputs": [],
   "source": [
    "import sys\n",
    "sys.path.append('../src/')"
   ]
  },
  {
   "cell_type": "code",
   "execution_count": null,
   "id": "37fa7b94-68d3-4eb9-a914-2a9b125e1744",
   "metadata": {},
   "outputs": [],
   "source": [
    "import pandas as pd\n",
    "import sqlalchemy\n",
    "import json\n",
    "from utils.helpers import get_database_connection, get_events\n",
    "from dateutil.relativedelta import relativedelta\n",
    "import seaborn as sns\n",
    "import matplotlib.pyplot as plt\n",
    "import csv\n",
    "import os"
   ]
  },
  {
   "cell_type": "code",
   "execution_count": null,
   "id": "3a6a0460-bb72-4d6e-95a2-b49133fcbb8d",
   "metadata": {},
   "outputs": [],
   "source": [
    "db_conn = get_database_connection()"
   ]
  },
  {
   "cell_type": "code",
   "execution_count": null,
   "id": "a37c943d-f8bc-4c0e-bc6a-c8c5800f4b86",
   "metadata": {},
   "outputs": [],
   "source": [
    "# jocomedactincidents\n",
    "# joco110hsccclientmisc2eaimpression\n",
    "q = f\"\"\"\n",
    "-- MEDICAL EXAMINER DATA\n",
    "with jcmex as \n",
    "(\n",
    "select \n",
    "    j.joid,\n",
    "    j.suicide,\n",
    "    j.overdosed,\n",
    "    j.dateofbirth,\n",
    "    j.dateofdeath,\n",
    "    'j' as county\n",
    "from clean.jocojcmexoverdosessuicides j\n",
    "join clean.jocojococlient client\n",
    "on j.joid = client.joid\n",
    "),\n",
    "dcmex as \n",
    "(\n",
    "select\n",
    "    j.joid,\n",
    "    j.suicide,\n",
    "    j.overdosed,\n",
    "    j.dateofbirth,\n",
    "    j.dateofdeath,\n",
    "    'd' as county\n",
    "from clean.jocojococlient client\n",
    "join clean.jocodcmexoverdosessuicides j\n",
    "on client.joid = j.joid\n",
    "),\n",
    "mex as \n",
    "(\n",
    "select * from jcmex\n",
    "union\n",
    "select * from dcmex\n",
    "),\n",
    "\n",
    "\n",
    "-- AMBULANCES\n",
    "jcamb as \n",
    "(\n",
    "select\n",
    "    client.joid,\n",
    "    max(ambulance.suicide_attempt_flag::int)::bool as suicide_attempt_flag,\n",
    "    max(ambulance.suicidal_flag::int)::bool as suicidal_flag,\n",
    "    max(ambulance.drug_flag::int)::bool as drug_flag\n",
    "from clean.jocojococlient client\n",
    "join clean.jocomedactincidents ambulance\n",
    "on client.joid = ambulance.joid\n",
    "group by client.joid\n",
    "),\n",
    "dcamb as \n",
    "(\n",
    "select\n",
    "    client.joid,\n",
    "    max(ambulance.suicide_attempt_flag::int)::bool as suicide_attempt_flag,\n",
    "    max(ambulance.suicidal_flag::int)::bool as suicidal_flag,\n",
    "    max(ambulance.drug_flag::int)::bool as drug_flag\n",
    "from clean.jocojococlient client\n",
    "join clean.joco110hsccclientmisc2eaimpression ambulance\n",
    "on client.joid = ambulance.joid\n",
    "group by client.joid\n",
    "),\n",
    "amb as\n",
    "(\n",
    "    select joid, \n",
    "    max(suicide_attempt_flag::int)::bool as suicide_attempt_flag,\n",
    "    max(suicidal_flag::int)::bool as suicidal_flag,\n",
    "    max(drug_flag::int)::bool as drug_flag\n",
    "    from\n",
    "    (select * from jcamb\n",
    "    union\n",
    "    select * from dcamb) ambs\n",
    "    group by joid\n",
    "),\n",
    "\n",
    "\n",
    "-- NUM ROWS: number of rows each joid has in the clients tables\n",
    "num_rows as \n",
    "(\n",
    "select\n",
    "    joid,\n",
    "    count(*) as num_client_rows\n",
    "from\n",
    "    clean.jocojococlient client\n",
    "group by joid\n",
    "),\n",
    "\n",
    "-- Demographic info\n",
    "dem as\n",
    "(\n",
    "select\n",
    "    joid, \n",
    "    race,\n",
    "    sex\n",
    "from clean.jocojcmhcdemographics_dedupe\n",
    ")\n",
    "\n",
    "select \n",
    "    mex.joid,\n",
    "    mex.dateofbirth,\n",
    "    mex.suicide,\n",
    "    mex.overdosed,\n",
    "    mex.dateofdeath,\n",
    "    mex.county,\n",
    "    amb.suicide_attempt_flag,\n",
    "    amb.suicidal_flag,\n",
    "    amb.drug_flag,\n",
    "    num_client_rows,\n",
    "    dem.race,\n",
    "    dem.sex\n",
    "from mex\n",
    "left join amb\n",
    "on mex.joid = amb.joid\n",
    "left join num_rows on mex.joid = num_rows.joid\n",
    "left join dem on mex.joid = dem.joid\n",
    "--group by mex.joid, mex.dateofbirth, num_client_rows, suicide, overdosed, dateofdeath\n",
    "\"\"\"\n",
    "\n",
    "# select joid, suicidal_flag, drug_flag\n",
    "# from amb\n",
    "df = pd.read_sql(q, db_conn)"
   ]
  },
  {
   "cell_type": "code",
   "execution_count": null,
   "id": "848bb9a1",
   "metadata": {},
   "outputs": [],
   "source": [
    "df.shape"
   ]
  },
  {
   "cell_type": "code",
   "execution_count": null,
   "id": "9d55c701",
   "metadata": {},
   "outputs": [],
   "source": [
    "sum(~df['county'].isin(['j', 'd']))"
   ]
  },
  {
   "cell_type": "code",
   "execution_count": null,
   "id": "95dbe9c9-09c3-4ce6-8472-676dd2f85444",
   "metadata": {},
   "outputs": [],
   "source": [
    "# Ensure no duplicates\n",
    "df[df['joid'].duplicated(keep=False)].sort_values(by=['joid'])"
   ]
  },
  {
   "cell_type": "markdown",
   "id": "824367ee-a17f-4e81-a995-acb6c2a1bc0d",
   "metadata": {},
   "source": [
    "### Race and sex breakdown of data (aggregated only from mhc currently)"
   ]
  },
  {
   "cell_type": "code",
   "execution_count": null,
   "id": "23025a0d-dbc5-43dd-a2fa-3a8328982ac5",
   "metadata": {},
   "outputs": [],
   "source": [
    "# Demographic data obatined only from mhc\n",
    "df['race'].value_counts(dropna=False)"
   ]
  },
  {
   "cell_type": "code",
   "execution_count": null,
   "id": "bdd125d7-c8d7-431d-a603-6a9946f7cf01",
   "metadata": {},
   "outputs": [],
   "source": [
    "sns.set_style(\"white\")\n",
    "# General setup for plots\n",
    "plt.rc(\"axes.spines\", top=False, right=False)"
   ]
  },
  {
   "cell_type": "code",
   "execution_count": null,
   "id": "d04a3647-4493-4128-be6b-4891b946e5d9",
   "metadata": {},
   "outputs": [],
   "source": [
    "ax = sns.histplot(df['race'])\n",
    "ax.set_xlabel('race', fontsize=20)\n",
    "ax.set_ylabel('count', fontsize=20)\n",
    "for label in (ax.get_xticklabels() + ax.get_yticklabels()):\n",
    "    label.set_fontsize(16)"
   ]
  },
  {
   "cell_type": "code",
   "execution_count": null,
   "id": "18499e45-340b-4545-97e6-a0a59ad1568b",
   "metadata": {},
   "outputs": [],
   "source": [
    "# Demographic data obatined only from mhc\n",
    "df['sex'].value_counts(dropna=False)"
   ]
  },
  {
   "cell_type": "code",
   "execution_count": null,
   "id": "32c5db13-e38b-4bbc-a944-ca0e09b5164f",
   "metadata": {},
   "outputs": [],
   "source": [
    "ax = sns.histplot(df['sex'])\n",
    "ax.set_xlabel('sex', fontsize=20)\n",
    "ax.set_ylabel('count', fontsize=20)\n",
    "for label in (ax.get_xticklabels() + ax.get_yticklabels()):\n",
    "    label.set_fontsize(16)"
   ]
  },
  {
   "cell_type": "markdown",
   "id": "e33fd07c-20b2-4f77-97cc-27463ec4124d",
   "metadata": {},
   "source": [
    "## Suicide and overdose data"
   ]
  },
  {
   "cell_type": "code",
   "execution_count": null,
   "id": "12d65b96-9418-45da-8fa4-2feb643c2d56",
   "metadata": {},
   "outputs": [],
   "source": [
    "# def list_to_csv(filename, values):\n",
    "#     CSV_DIR = 'csv/'\n",
    "#     path = os.path.join(CSV_DIR, filename)\n",
    "#     with open(path, 'w') as f:\n",
    "#         csv_writer = csv.writer(f)\n",
    "#         values = [[value] for value in values]\n",
    "#         csv_writer.writerows(values)"
   ]
  },
  {
   "cell_type": "markdown",
   "id": "c629c649-7251-4d6a-838c-6fcd7ae16016",
   "metadata": {},
   "source": [
    "### Suicides where a previous suicide attempt (or suicidality in general) is known"
   ]
  },
  {
   "cell_type": "code",
   "execution_count": null,
   "id": "e13abd6c",
   "metadata": {},
   "outputs": [],
   "source": [
    "df.shape"
   ]
  },
  {
   "cell_type": "code",
   "execution_count": null,
   "id": "25a533b8-957e-4453-ab1f-8f3d6022d0d9",
   "metadata": {},
   "outputs": [],
   "source": [
    "# new matching\n",
    "for county in ['johnson', 'douglas']:\n",
    "    county_letter = county[0]\n",
    "    county_df = df[df['county'] == county_letter]\n",
    "    print(len(county_df.index))\n",
    "    tot_suicides = sum(county_df['suicide'] == True)\n",
    "    print(tot_suicides)\n",
    "    num_prev_attempts = sum((county_df['suicide'] == True) & (county_df['suicide_attempt_flag'] == True))\n",
    "    # The below includes suicidal ideation, self-harm, etc.\n",
    "    num_prev_suicidal = sum((county_df['suicide'] == True) & (county_df['suicidal_flag'] == True))\n",
    "    print(f'{num_prev_attempts} out of {tot_suicides} ({num_prev_attempts / (num_prev_attempts + tot_suicides):.1%}) {county} county residents that committed suicide had a previous suicide attempt (tracked by ambulance data)')\n",
    "    print(f'{num_prev_suicidal} out of {tot_suicides} ({num_prev_suicidal / (num_prev_suicidal + tot_suicides):.1%}) {county} county residents that committed suicide were previously suicidal (tracked by ambulance data)')\n",
    "    print('-'*20)"
   ]
  },
  {
   "cell_type": "markdown",
   "id": "3cbeb40f-79f2-4c67-8fc9-5a4b3b30391f",
   "metadata": {},
   "source": [
    "### Drug overdoses and previous drug history"
   ]
  },
  {
   "cell_type": "code",
   "execution_count": null,
   "id": "8852db97-78ca-41da-a283-75718c49331a",
   "metadata": {},
   "outputs": [],
   "source": [
    "for county in ['johnson', 'douglas']:\n",
    "    county_letter = county[0]\n",
    "    county_df = df[df['county'] == county_letter]\n",
    "    tot_fatal_ods = sum(county_df['overdosed'] == True)\n",
    "    num_od_with_drug_history = sum((county_df['overdosed'] == True) & (county_df['drug_flag'] == True))\n",
    "    print(f'{num_od_with_drug_history} out of {tot_fatal_ods} ({num_od_with_drug_history / (tot_fatal_ods + num_od_with_drug_history):.1%}) {county} county residents that fatally overdosed had previous drug history (as tracked by ambulance data)')\n",
    "    print('-'*20)"
   ]
  },
  {
   "cell_type": "markdown",
   "id": "52010349-5bdf-48c0-9e13-6a23ce9e6594",
   "metadata": {},
   "source": [
    "### First-time interaction with the system is suicide "
   ]
  },
  {
   "cell_type": "code",
   "execution_count": null,
   "id": "2eb28202-28ad-4836-8cd2-7014125d2ba3",
   "metadata": {},
   "outputs": [],
   "source": [
    "for county in ['johnson', 'douglas']:\n",
    "    county_letter = county[0]\n",
    "    county_df = df[(df['county'] == county_letter) & (df['suicide'] == True)]\n",
    "    know_only_suicide = county_df[county_df['num_client_rows'] == 1]\n",
    "        \n",
    "    # Export to csv\n",
    "    # list_to_csv(f'{county}_only_know_suicide.csv', know_only_suicide['joid'].tolist())\n",
    "    \n",
    "    num_only_know_suicide = len(know_only_suicide.index) \n",
    "    num_know_more_than_just_suicide = len(county_df[county_df['num_client_rows'] > 1].index)\n",
    "    num_suicides = num_only_know_suicide + num_know_more_than_just_suicide\n",
    "    print(f'In {county} county, {num_only_know_suicide} of {num_suicides} ({num_only_know_suicide / (num_only_know_suicide + num_know_more_than_just_suicide):.1%}) total suicides have no prior interaction with the system')"
   ]
  },
  {
   "cell_type": "markdown",
   "id": "2b37a1fc-8011-4a83-82c9-4cb65cdba3b2",
   "metadata": {},
   "source": [
    "### First-time interaction with the system is drug overdose "
   ]
  },
  {
   "cell_type": "code",
   "execution_count": null,
   "id": "3c834072-66fd-4e6f-ac4d-1f767ec20407",
   "metadata": {},
   "outputs": [],
   "source": [
    "for county in ['johnson', 'douglas']:\n",
    "    county_letter = county[0]\n",
    "    county_df = df[(df['county'] == county_letter) & (df['overdosed'] == True)]\n",
    "    only_know_od_df = county_df[county_df['num_client_rows'] == 1]\n",
    "    num_only_know_od = len(only_know_od_df.index) \n",
    "    \n",
    "    # list_to_csv(f'{county}_only_know_od.csv', only_know_od_df['joid'].tolist())\n",
    "    \n",
    "    num_know_more_than_just_od = len(county_df[county_df['num_client_rows'] > 1].index)\n",
    "    num_ods = num_only_know_od + num_know_more_than_just_od\n",
    "    print(f'In {county} county, {num_only_know_od} of {num_ods} ({num_only_know_od / (num_only_know_od + num_know_more_than_just_od):.1%}) fatal overdoses have no prior interaction with the system (as tracked by ambulance data)')"
   ]
  },
  {
   "cell_type": "markdown",
   "id": "06d901f4-153f-4ce2-b63d-ea3bdff8f5ea",
   "metadata": {},
   "source": [
    "### Suicide and overdoses by age"
   ]
  },
  {
   "cell_type": "code",
   "execution_count": null,
   "id": "f0ee3472-5186-45f6-8e66-b95ee7de5857",
   "metadata": {},
   "outputs": [],
   "source": [
    "def get_age(death_date, dob):\n",
    "    \"\"\" Return age of person at time of death.\"\"\"\n",
    "    if death_date is None or dob is None:\n",
    "        return None\n",
    "    return death_date.year - dob.year - ((death_date.month, death_date.day) < (dob.month, dob.day))"
   ]
  },
  {
   "cell_type": "code",
   "execution_count": null,
   "id": "e8202524-7933-4ab0-936d-53fa43d6ac71",
   "metadata": {},
   "outputs": [],
   "source": [
    "df['age'] = [get_age(death_date, dob) for death_date, dob in zip(df['dateofdeath'], df['dateofbirth'])]"
   ]
  },
  {
   "cell_type": "code",
   "execution_count": null,
   "id": "8ff9efd7-2eaa-4168-be4b-eaec7e82bf15",
   "metadata": {},
   "outputs": [],
   "source": [
    "df['single_event'] = [True if num_cl_rows == 1 else False for num_cl_rows in df['num_client_rows']]"
   ]
  },
  {
   "cell_type": "code",
   "execution_count": null,
   "id": "79342b42-b09a-447e-8128-1578126a8d16",
   "metadata": {},
   "outputs": [],
   "source": [
    "sns.set()"
   ]
  },
  {
   "cell_type": "markdown",
   "id": "2aa11264-3bdc-4634-ae79-6685e83df136",
   "metadata": {},
   "source": [
    "#### We explore the age distribution of those that committed suicide, conditioned on i), whether their death is their first interaction with the system and, ii), whether the death was through overdose."
   ]
  },
  {
   "cell_type": "code",
   "execution_count": null,
   "id": "bdbdf258-ec87-4c6d-8718-c17b36ab0c31",
   "metadata": {},
   "outputs": [],
   "source": [
    "for death_type in ['suicide', 'overdosed']:\n",
    "    for my_hue in ['single_event', 'overdosed']:\n",
    "        for county in ['j', 'd']:\n",
    "            print(f'Death type: {death_type}')\n",
    "            if death_type == 'overdosed':\n",
    "                print('(Not necessarily suicide)')\n",
    "            county_name = 'Johnson County' if county == 'j' else 'Douglas County'\n",
    "            data_df = df[(df['county'] == county) & (df[death_type] == True)]\n",
    "            sns.histplot(data=data_df, x='age', stat='count', hue=my_hue, binwidth=5)\n",
    "            plt.title(f'{county_name}')\n",
    "            plt.show()"
   ]
  },
  {
   "cell_type": "markdown",
   "id": "2627d4e5-306c-4838-ad11-aa2713f83c1b",
   "metadata": {},
   "source": [
    "## Invesitgate events for each joid that committed suicide"
   ]
  },
  {
   "cell_type": "code",
   "execution_count": null,
   "id": "54346e7c",
   "metadata": {},
   "outputs": [],
   "source": [
    "for county in ['j', 'd']:\n",
    "    print(f'COUNTY: {county}')\n",
    "    suicide_joids = df.loc[(df['county'] == county) & (df['suicide'] == True), 'joid'].unique()\n",
    "    suic_joids_str = ', '.join([f\"'{joid}'\" for joid in suicide_joids])\n",
    "    q = f\"\"\"\n",
    "    select joid, event_type, count(event_type)\n",
    "    from semantic.client_events\n",
    "    where joid in ({suic_joids_str})\n",
    "    group by joid, event_type\n",
    "    \"\"\"\n",
    "    events_df = pd.read_sql(q, db_conn)\n",
    "    events_df.head()\n",
    "    event_types = events_df['event_type'].unique()\n",
    "\n",
    "    # Sanity check\n",
    "    for joid in suicide_joids:\n",
    "        for event_type in event_types:\n",
    "            assert sum((events_df['joid'] == joid) & (events_df['event_type'] == event_type)) in [0,1]\n",
    "\n",
    "    events_vectors = []\n",
    "    for joid in suicide_joids:\n",
    "        event_vec = []\n",
    "        for event_type in event_types:\n",
    "            val_arr = events_df.loc[(events_df['joid'] == joid) & (events_df['event_type'] == event_type), 'count'].values\n",
    "            if not len(val_arr):\n",
    "                value = 0\n",
    "            else:\n",
    "                value = val_arr[0]\n",
    "            event_vec.append(value)\n",
    "        events_vectors.append(event_vec)\n",
    "\n",
    "    event_counts_df = pd.DataFrame(events_vectors, columns=event_types, index=suicide_joids)\n",
    "    event_counts_df.mean()\n",
    "    display(event_counts_df.describe())"
   ]
  },
  {
   "cell_type": "code",
   "execution_count": null,
   "id": "16d92c09",
   "metadata": {},
   "outputs": [],
   "source": [
    "sum(event_counts_df['ARREST'] > 0)"
   ]
  },
  {
   "cell_type": "code",
   "execution_count": null,
   "id": "7d2727c4",
   "metadata": {},
   "outputs": [],
   "source": [
    "import seaborn as sns\n",
    "import matplotlib.pyplot as plt"
   ]
  },
  {
   "cell_type": "code",
   "execution_count": null,
   "id": "63ec8bac",
   "metadata": {},
   "outputs": [],
   "source": [
    "# event_type = 'AMBULANCE'\n",
    "for event_type in event_types:\n",
    "    print(event_type)\n",
    "    g = sns.histplot(data=event_counts_df, x=event_type)\n",
    "    g.figure.savefig(f'plots/suicide_event_counts_{event_type}.png')\n",
    "    # plt.plot()\n"
   ]
  }
 ],
 "metadata": {
  "kernelspec": {
   "display_name": "Python 3 (ipykernel)",
   "language": "python",
   "name": "python3"
  },
  "language_info": {
   "codemirror_mode": {
    "name": "ipython",
    "version": 3
   },
   "file_extension": ".py",
   "mimetype": "text/x-python",
   "name": "python",
   "nbconvert_exporter": "python",
   "pygments_lexer": "ipython3",
   "version": "3.10.4"
  },
  "vscode": {
   "interpreter": {
    "hash": "3b13c6f641af22525ec1bb5ca2867395e8a50d86a8864b59bafbc48fdc461750"
   }
  }
 },
 "nbformat": 4,
 "nbformat_minor": 5
}
