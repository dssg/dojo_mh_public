{
 "cells": [
  {
   "cell_type": "code",
   "execution_count": null,
   "id": "0c40ec09-e9f6-4f71-b598-123543cabc25",
   "metadata": {},
   "outputs": [],
   "source": [
    "import os\n",
    "import numpy as np\n",
    "import pandas as pd\n",
    "import aequitas.plot as ap\n",
    "from aequitas.bias import Bias\n",
    "from aequitas.group import Group\n",
    "from postmodeling.evaluation import (\n",
    "    get_predictions,\n",
    "    get_test_pred_labels_from_csv\n",
    ")\n",
    "from postmodeling.fairness import (\n",
    "    get_score_attr_df,\n",
    "    get_group_metrics,\n",
    "    get_demographics_data,\n",
    "    get_absolute_metrics,\n",
    "    enrich_demographics\n",
    ")\n",
    "from postmodeling.plotting import (\n",
    "    plot_disparity,\n",
    "    save_all_disparity_plots\n",
    ")\n",
    "from utils.helpers import (\n",
    "    get_database_connection,\n",
    "    load_models\n",
    ")\n",
    "import matplotlib\n",
    "from sklearn.tree import plot_tree"
   ]
  },
  {
   "cell_type": "markdown",
   "id": "92606c0a-6fbe-4c5b-aebd-ccc2312361f5",
   "metadata": {},
   "source": [
    "## Fairness audit\n",
    "This notebook does the fairness audit for a single model (a single split) across sex, race, and county. There are two few observations for hispanic to assess fairness."
   ]
  },
  {
   "cell_type": "code",
   "execution_count": null,
   "id": "a935f8d4-f5fd-47cd-a677-788d9733c07a",
   "metadata": {},
   "outputs": [],
   "source": [
    "db_conn = get_database_connection()\n",
    "\n",
    "# This queries the database and takes most of the time\n",
    "df_dem = get_demographics_data(db_conn, attributes=['sex', 'race', 'ethnicity'])"
   ]
  },
  {
   "cell_type": "code",
   "execution_count": null,
   "id": "6902bddf-3048-4eaf-a201-784ecbdfd96f",
   "metadata": {},
   "outputs": [],
   "source": [
    "model_id = 434\n",
    "#model_id = 11474\n",
    "attr_and_ref_groups = {'sex': 'MALE', 'race': 'W', 'hispanic': 'YES', 'county': 'joco'}"
   ]
  },
  {
   "cell_type": "code",
   "execution_count": null,
   "id": "ff7be141-a66e-4bf4-ad75-7a07207c52d7",
   "metadata": {},
   "outputs": [],
   "source": [
    "# Get the score and attribute dataframe\n",
    "df = get_score_attr_df(df_dem, model_id)\n",
    "\n",
    "# Enrich the table with demographics from other tables (that do not have an event date)\n",
    "df = enrich_demographics(df, df_dem)"
   ]
  },
  {
   "cell_type": "code",
   "execution_count": null,
   "id": "91b12a1b-8051-4e58-8482-612a304c5f23",
   "metadata": {},
   "outputs": [],
   "source": [
    "df"
   ]
  },
  {
   "cell_type": "code",
   "execution_count": null,
   "id": "1f4ed11b-ce8d-4cbe-8d8c-9424fe726d18",
   "metadata": {},
   "outputs": [],
   "source": [
    "# Calculate the metrics\n",
    "xtab, df_metrics = get_group_metrics(df, attr_and_ref_groups)"
   ]
  },
  {
   "cell_type": "code",
   "execution_count": null,
   "id": "a4d22e4d-18cf-4c0c-93ac-d34ec35d5e53",
   "metadata": {},
   "outputs": [],
   "source": [
    "df_metrics"
   ]
  },
  {
   "cell_type": "markdown",
   "id": "12ad202a-6dd7-42db-8bae-ea88a4acfe44",
   "metadata": {},
   "source": [
    "## Differences across sex"
   ]
  },
  {
   "cell_type": "code",
   "execution_count": null,
   "id": "a68b2c8c-c5cf-4cfe-a74e-fe314dbb891d",
   "metadata": {},
   "outputs": [],
   "source": [
    "# To see how many observations we have per sex and missing\n",
    "df.sex.value_counts()"
   ]
  },
  {
   "cell_type": "code",
   "execution_count": null,
   "id": "569e8763-19fb-4445-85bb-34c89a16ab63",
   "metadata": {},
   "outputs": [],
   "source": [
    "plot_disparity(df_metrics, 'precision', 'sex')"
   ]
  },
  {
   "cell_type": "code",
   "execution_count": null,
   "id": "62fe48c8-bdb1-401f-b604-b8ef5eb4434d",
   "metadata": {},
   "outputs": [],
   "source": [
    "plot_disparity(df_metrics, 'precision', 'sex')"
   ]
  },
  {
   "cell_type": "code",
   "execution_count": null,
   "id": "acc6288a-aeba-484f-9e44-dbb13ecf5065",
   "metadata": {},
   "outputs": [],
   "source": [
    "plot_disparity(df_metrics, 'tpr', 'sex')"
   ]
  },
  {
   "cell_type": "markdown",
   "id": "3bbdf6ba-dba1-4c50-a17b-001e49614ce7",
   "metadata": {},
   "source": [
    "## Differences across race"
   ]
  },
  {
   "cell_type": "code",
   "execution_count": null,
   "id": "bb6f57b6-b826-4ff5-a14f-1c802964fdbb",
   "metadata": {},
   "outputs": [],
   "source": [
    "# To see how many observations we have per sex and missing\n",
    "df.race.value_counts()"
   ]
  },
  {
   "cell_type": "markdown",
   "id": "59967510-1c6e-4341-aa31-80517f4aec12",
   "metadata": {},
   "source": [
    "Since in general we will have only very few observations except for white, black, and missing, we restrict our analysis to those."
   ]
  },
  {
   "cell_type": "code",
   "execution_count": null,
   "id": "09db6ecd-25f0-4520-a6fa-bf943d875b53",
   "metadata": {},
   "outputs": [],
   "source": [
    "df_metrics_r = df_metrics[df_metrics['attribute_value'].str.contains('B|W|MISSING')]"
   ]
  },
  {
   "cell_type": "code",
   "execution_count": null,
   "id": "82598d49-5840-448b-89a3-23d7fe59770b",
   "metadata": {},
   "outputs": [],
   "source": [
    "plot_disparity(df_metrics_r, 'precision', 'race')"
   ]
  },
  {
   "cell_type": "code",
   "execution_count": null,
   "id": "8e7dd143-335d-4460-83d8-3a86cdb9a1c6",
   "metadata": {},
   "outputs": [],
   "source": [
    "plot_disparity(df_metrics_r, 'tpr', 'race')"
   ]
  },
  {
   "cell_type": "code",
   "execution_count": null,
   "id": "33324dc8-d551-4b24-a091-a57c05d5e4e3",
   "metadata": {},
   "outputs": [],
   "source": [
    "# Check how many true labels\n",
    "df_metrics[['attribute_name', 'attribute_value', 'group_label_pos']]"
   ]
  },
  {
   "cell_type": "markdown",
   "id": "8712db49-8a56-4c54-a9ca-62ac4664edf4",
   "metadata": {},
   "source": [
    "## Differences across counties"
   ]
  },
  {
   "cell_type": "code",
   "execution_count": null,
   "id": "d568810e-6164-47eb-b9cc-4994ae2401a5",
   "metadata": {},
   "outputs": [],
   "source": [
    "plot_disparity(df_metrics, 'precision', 'county')"
   ]
  },
  {
   "cell_type": "code",
   "execution_count": null,
   "id": "29831046-940a-4bdc-a027-afd16f991c63",
   "metadata": {},
   "outputs": [],
   "source": [
    "plot_disparity(df_metrics, 'tpr', 'county')"
   ]
  },
  {
   "cell_type": "markdown",
   "id": "8d6ba9ac-7672-4223-ae91-bbe830f0bf7c",
   "metadata": {},
   "source": [
    "## All metrics"
   ]
  },
  {
   "cell_type": "code",
   "execution_count": null,
   "id": "406e2415-7534-44b9-9249-7cd91f71e818",
   "metadata": {},
   "outputs": [],
   "source": [
    "get_absolute_metrics(xtab)"
   ]
  },
  {
   "cell_type": "markdown",
   "id": "a02dafc7-6524-4b8d-8c09-61e772de1806",
   "metadata": {},
   "source": [
    "## Save figures to disk"
   ]
  },
  {
   "cell_type": "code",
   "execution_count": null,
   "id": "cbfdf9bc-4c59-4a8b-9c71-eee032a6899d",
   "metadata": {},
   "outputs": [],
   "source": [
    "# Save disparity plots for all model sets and model ids for one expriment\n",
    "save_all_disparity_plots(db_conn, experiment_id=25, df_dem=df_dem)"
   ]
  }
 ],
 "metadata": {
  "kernelspec": {
   "display_name": "Python 3 (ipykernel)",
   "language": "python",
   "name": "python3"
  },
  "language_info": {
   "codemirror_mode": {
    "name": "ipython",
    "version": 3
   },
   "file_extension": ".py",
   "mimetype": "text/x-python",
   "name": "python",
   "nbconvert_exporter": "python",
   "pygments_lexer": "ipython3",
   "version": "3.10.4"
  }
 },
 "nbformat": 4,
 "nbformat_minor": 5
}
