{
 "cells": [
  {
   "cell_type": "code",
   "execution_count": null,
   "id": "fb9603ab-675f-4d6e-91a4-fdc97ebf16b9",
   "metadata": {},
   "outputs": [],
   "source": [
    "import numpy as np\n",
    "import pandas as pd\n",
    "import seaborn as sns\n",
    "import matplotlib.pyplot as plt\n",
    "import matplotlib.dates as mdates\n",
    "from postmodeling.evaluation import (\n",
    "    get_evaluation,\n",
    "    get_predictions,\n",
    "    get_confusion_matrix,\n",
    "    plot_confusion_matrix,\n",
    "    get_split_label_df\n",
    ")\n",
    "from utils.helpers import get_database_connection, get_label_counts\n",
    "from utils.constants import LABEL_MAPPING"
   ]
  },
  {
   "cell_type": "code",
   "execution_count": null,
   "id": "691187cb-5e22-4833-b583-19e78b4cfd74",
   "metadata": {},
   "outputs": [],
   "source": [
    "db_conn = get_database_connection()"
   ]
  },
  {
   "cell_type": "markdown",
   "id": "53b2c5f4-8038-45a8-83ef-713486b2525d",
   "metadata": {},
   "source": [
    "# Prelude: Label size"
   ]
  },
  {
   "cell_type": "code",
   "execution_count": null,
   "id": "a7c1c2c3-f257-45b5-94e1-b7f4eb034b8e",
   "metadata": {},
   "outputs": [],
   "source": [
    "labels_dict = {\n",
    "    'doco': [  # Also used for county='both'\n",
    "        ['DEATH BY SUICIDE', 'DEATH BY OVERDOSE'],\n",
    "        ['DEATH BY OVERDOSE', 'SUBSTANCE USE AMBULANCE RUN', 'DOCO DRUG DIAGNOSIS'],\n",
    "\n",
    "        ['DEATH BY SUICIDE', 'SUICIDE ATTEMPT AMBULANCE RUN', 'SUICIDAL AMBULANCE RUN',\n",
    "        'DOCO SUICIDE ATTEMPT DIAGNOSIS', 'DOCO SUICIDAL DIAGNOSIS'],\n",
    "\n",
    "        ['DEATH BY SUICIDE', 'SUICIDE ATTEMPT AMBULANCE RUN', 'DOCO SUICIDE ATTEMPT DIAGNOSIS',\n",
    "        'DEATH BY OVERDOSE', 'SUBSTANCE USE AMBULANCE RUN', 'DOCO DRUG DIAGNOSIS'],\n",
    "\n",
    "        ['DEATH BY SUICIDE', 'SUICIDE ATTEMPT AMBULANCE RUN', 'DOCO SUICIDE ATTEMPT DIAGNOSIS',\n",
    "        'SUICIDAL AMBULANCE RUN', 'DOCO SUICIDAL DIAGNOSIS', \n",
    "        'DEATH BY OVERDOSE', 'SUBSTANCE USE AMBULANCE RUN', 'DOCO DRUG DIAGNOSIS',\n",
    "        'OTHER BEHAVIORAL CRISIS AMBULANCE RUN', 'DOCO OTHER MENTAL CRISIS DIAGNOSIS']\n",
    "    ],\n",
    "\n",
    "    'joco': [\n",
    "        ['DEATH BY SUICIDE', 'DEATH BY OVERDOSE'],\n",
    "        ['DEATH BY OVERDOSE', 'SUBSTANCE USE AMBULANCE RUN'],\n",
    "        ['DEATH BY SUICIDE', 'SUICIDE ATTEMPT AMBULANCE RUN', 'SUICIDAL AMBULANCE RUN'],\n",
    "\n",
    "        ['DEATH BY SUICIDE', 'SUICIDE ATTEMPT AMBULANCE RUN',\n",
    "        'DEATH BY OVERDOSE', 'SUBSTANCE USE AMBULANCE RUN'],\n",
    "\n",
    "        ['DEATH BY SUICIDE', 'SUICIDE ATTEMPT AMBULANCE RUN', 'SUICIDAL AMBULANCE RUN',\n",
    "        'DEATH BY OVERDOSE', 'SUBSTANCE USE AMBULANCE RUN',\n",
    "        'OTHER BEHAVIORAL CRISIS AMBULANCE RUN']\n",
    "    ]\n",
    "}"
   ]
  },
  {
   "cell_type": "code",
   "execution_count": null,
   "id": "dc727bd0-79f4-402b-99d5-07484f5c78f7",
   "metadata": {},
   "outputs": [],
   "source": [
    "def get_label_group(label_names):\n",
    "    for key, values in LABEL_MAPPING.items():\n",
    "        for value in values:\n",
    "            if sorted(value) == sorted(label_names):\n",
    "                return key"
   ]
  },
  {
   "cell_type": "code",
   "execution_count": null,
   "id": "c08bb158-ea7f-4c73-9d1c-55a9c012e817",
   "metadata": {},
   "outputs": [],
   "source": [
    "counties = ['doco', 'joco']\n",
    "\n",
    "res_dist = []\n",
    "\n",
    "for county in counties:\n",
    "    label_names = labels_dict[county]\n",
    "    for label_name in label_names:\n",
    "        lg_name = get_label_group(label_name)\n",
    "        #print(LABEL_MAPPING[lg_name])\n",
    "        res_dist.append(get_label_counts(db_conn, label_name, lg_name, county=county, distinct_joids=True))"
   ]
  },
  {
   "cell_type": "code",
   "execution_count": null,
   "id": "c61b3b03-0375-44cf-9075-b50ff4e3b67b",
   "metadata": {},
   "outputs": [],
   "source": [
    "df_dist = pd.concat(res_dist)"
   ]
  },
  {
   "cell_type": "code",
   "execution_count": null,
   "id": "5d063b5f-0a4d-4625-8797-ef4a0ead6ae9",
   "metadata": {},
   "outputs": [],
   "source": [
    "plt.clf()\n",
    "plt.figure(figsize=(18, 12))\n",
    "sns.set(font_scale=1.5)\n",
    "sns.despine()\n",
    "sns.set_style('white')\n",
    "plt.rc(\"axes.spines\", top=False, right=False)\n",
    "\n",
    "n_colors = df['Label group'].unique().size\n",
    "palette = sns.color_palette('colorblind', n_colors=n_colors)\n",
    "\n",
    "p = sns.lineplot(\n",
    "    data=df_dist.reset_index(), hue='Label group',\n",
    "    x='As of date', y='Count',\n",
    "    style='County', hue_order=sorted(LABEL_MAPPING.keys()),\n",
    "    style_order=['Johnson', 'Douglas'], lw=4, \n",
    "    palette=palette\n",
    ")\n",
    "title = 'Number of people across label groups and counties'\n",
    "\n",
    "ylabel = 'Count'\n",
    "plt.xticks(rotation=45)\n",
    "p.set(ylabel=ylabel)\n",
    "plt.title(title, fontsize=24)\n",
    "legend = plt.legend(bbox_to_anchor=(1.02, 1), loc='upper left', borderaxespad=0, ncol=1, frameon=False)"
   ]
  },
  {
   "cell_type": "markdown",
   "id": "88d469d3-a929-4915-8a35-4eedd0d8df2a",
   "metadata": {},
   "source": [
    "# Overview\n",
    "This notebook looks at a particular model set across all validation splits and assesses its precision / recall across counties. It also includes crosstabs, feature importance, and fairness audits."
   ]
  },
  {
   "cell_type": "code",
   "execution_count": null,
   "id": "7235e04a-a8be-4b29-b047-c1d259dd6919",
   "metadata": {},
   "outputs": [],
   "source": [
    "db_conn = get_database_connection()\n",
    "\n",
    "# TODO: Write a function to get the model ids from a description of the model (i.e., name and some params)\n",
    "# These are the random forests ran on Friday 27th July\n",
    "# They can be swapped for any other model_ids and the code below will then run for those\n",
    "model_ids = [51, 52, 53, 54, 55] # FeatureRanker on ambulance run the last six months\n",
    "model_ids = [46, 47, 48, 49, 50] # RandomForest\n",
    "\n",
    "# Good runs (on expanded labels with all ambulance runs)\n",
    "model_ids = list(range(2071, 2076)) # High utilizer baseline\n",
    "model_ids = [2050, 2057, 2059, 2061, 2064] # Feature ranker baseline\n",
    "model_ids = [2076, 2077, 2078, 2079, 2080] # Huge random forest"
   ]
  },
  {
   "cell_type": "markdown",
   "id": "bdb87759-3401-46e9-8bf0-33af2feeddce",
   "metadata": {},
   "source": [
    "## Precision and Recall"
   ]
  },
  {
   "cell_type": "code",
   "execution_count": null,
   "id": "cef2a396-e627-4b50-bb40-f3e9ce09efa1",
   "metadata": {},
   "outputs": [],
   "source": [
    "doco_k = 40\n",
    "joco_k = 75\n",
    "\n",
    "df = pd.concat(\n",
    "    get_evaluation(db_conn, id) for id in model_ids\n",
    ")"
   ]
  },
  {
   "cell_type": "code",
   "execution_count": null,
   "id": "05e7453f-43e0-4c79-9342-a91386118e46",
   "metadata": {},
   "outputs": [],
   "source": [
    "tab = df[['model_id', 'as_of_date', 'county', 'k', 'county_k', 'metric', 'value', 'county_value']]"
   ]
  },
  {
   "cell_type": "code",
   "execution_count": null,
   "id": "5ef8d593-959b-40f3-bd74-677ecf164345",
   "metadata": {},
   "outputs": [],
   "source": [
    "def plot_pr_summary(tab, title='', county=False, ax=None, ylim=[0, 0.6], legend=True):\n",
    "    y = 'county_value' if county else 'value'\n",
    "    p = sns.lineplot(data=tab, y=y, x='as_of_date', hue='metric', ax=ax, legend=legend);\n",
    "    p.set(\n",
    "        title=title,\n",
    "        ylim=ylim,\n",
    "        xticks=tab.reset_index().as_of_date\n",
    "    );\n",
    "    \n",
    "def plot_pr_curve(df, title='', county=False, ax=None, xlim=None, ylim=None, legend=True):\n",
    "    y = 'county_value' if county else 'value'\n",
    "    p = sns.lineplot(data=df, style='county', x='county_k', y=y, hue='metric', ax=ax, legend=legend)\n",
    "    p.set(title=title)\n",
    "    \n",
    "    if xlim:\n",
    "        p.set(xlim=xlim)\n",
    "    if ylim:\n",
    "        p.set(ylim=ylim)"
   ]
  },
  {
   "cell_type": "code",
   "execution_count": null,
   "id": "2fb4a387-8e75-4d00-83dc-8643389df01a",
   "metadata": {},
   "outputs": [],
   "source": [
    "# Overall precision / recall at k = 115 across validation splits\n",
    "overall_tab = tab[tab['k'] == 115].groupby(['model_id', 'as_of_date', 'metric']).mean('value').drop(columns=['k', 'county_k'])\n",
    "\n",
    "# Precision / recall at k = 70 across validation splits and counties for JoCo\n",
    "joco_tab = tab[(tab['county'] == 'joco') & (tab['county_k'] == joco_k)].groupby(['model_id', 'as_of_date', 'metric', 'county']).mean('county_value').drop(columns=['k', 'county_k'])\n",
    "\n",
    "# Precision / recall at k = 40 across validation splits and counties for DoCo\n",
    "doco_tab = tab[(tab['county'] == 'doco') & (tab['county_k'] == doco_k)].groupby(['model_id', 'as_of_date', 'metric', 'county']).mean('county_value').drop(columns=['k', 'county_k'])"
   ]
  },
  {
   "cell_type": "code",
   "execution_count": null,
   "id": "3e7b7561-ca9b-4448-9ea9-b4b5ed97045d",
   "metadata": {},
   "outputs": [],
   "source": [
    "fig, axs = plt.subplots(1, 3, figsize=(18, 5))\n",
    "\n",
    "plot_pr_summary(overall_tab, county=False, title='Across county P/R at k = 115', ax=axs[0])\n",
    "plot_pr_summary(joco_tab, county=True, title='JoCo P/R at k = 75', ax=axs[1])\n",
    "plot_pr_summary(doco_tab, county=True, title='DoCo P/R at k = 40', ax=axs[2])"
   ]
  },
  {
   "cell_type": "code",
   "execution_count": null,
   "id": "87d3ec64-3cff-4595-a77c-d922d5c50d6d",
   "metadata": {},
   "outputs": [],
   "source": [
    "fig, axs = plt.subplots(2, 3, figsize=(18, 10))\n",
    "\n",
    "xlim=[0, 1000]\n",
    "ylim=[0, 0.60]\n",
    "titles = df.reset_index().as_of_date.unique()\n",
    "\n",
    "k = 0\n",
    "for i in range(2):\n",
    "    for j in range(3):\n",
    "        legend = True if k == 0 else False\n",
    "        if k < 4:\n",
    "            plot_pr_curve(df[df['model_id'] == model_ids[k]], county=True, title=titles[k], xlim=xlim, ylim=ylim, ax=axs[i][j], legend=legend)\n",
    "            k = k + 1"
   ]
  },
  {
   "cell_type": "markdown",
   "id": "3a17e573-507a-4267-8c10-c2dd79bc663d",
   "metadata": {},
   "source": [
    "## Crosstabs\n",
    "In both Johnson and Douglas county we are catching only very, very few people who in fact end up dying by suicide or overdose ..."
   ]
  },
  {
   "cell_type": "markdown",
   "id": "b95f2ae5-62b8-4d54-9a27-b0e3025ce72d",
   "metadata": {},
   "source": [
    "### Johnson County"
   ]
  },
  {
   "cell_type": "code",
   "execution_count": null,
   "id": "37f82259-b8ff-4aab-a310-b33ad97b8f18",
   "metadata": {},
   "outputs": [],
   "source": [
    "fig, axs = plt.subplots(2, 3, figsize=(18, 10))\n",
    "\n",
    "k = 0\n",
    "for i in range(2):\n",
    "    for j in range(3):\n",
    "        if k < 4:\n",
    "            cf = get_confusion_matrix(df[df['model_id'] == model_ids[k]], doco_k=None, joco_k=joco_k)\n",
    "            plt_cf = plot_confusion_matrix(cf)\n",
    "            axs[i][j].set_title(titles[k])\n",
    "            plt_cf.plot(ax=axs[i][j])\n",
    "            k = k + 1"
   ]
  },
  {
   "cell_type": "markdown",
   "id": "cb16bd4d-5b4e-464c-82ca-ed9b8c212d21",
   "metadata": {},
   "source": [
    "## Douglas County"
   ]
  },
  {
   "cell_type": "code",
   "execution_count": null,
   "id": "5a8000c4-7242-4231-a7ea-74c3f3334db0",
   "metadata": {},
   "outputs": [],
   "source": [
    "fig, axs = plt.subplots(2, 3, figsize=(18, 10))\n",
    "\n",
    "k = 0\n",
    "for i in range(2):\n",
    "    for j in range(3):\n",
    "        if k < 4:\n",
    "            cf = get_confusion_matrix(df[df['model_id'] == model_ids[k]], doco_k=doco_k, joco_k=None)\n",
    "            plt_cf = plot_confusion_matrix(cf)\n",
    "            axs[i][j].set_title(titles[k])\n",
    "            plt_cf.plot(ax=axs[i][j])\n",
    "            k = k + 1"
   ]
  },
  {
   "cell_type": "markdown",
   "id": "2f1ea744-0254-4451-b78d-1f0474896952",
   "metadata": {},
   "source": [
    "## What labels are we predicting?\n",
    "\n",
    "We read the split labels from the modeling.split_labels table and merge it with the predictions our model makes."
   ]
  },
  {
   "cell_type": "code",
   "execution_count": null,
   "id": "286cf714-9a0f-488d-8949-ec83fde513f3",
   "metadata": {},
   "outputs": [],
   "source": [
    "df_split = get_split_label_df(db_conn, model_ids)"
   ]
  },
  {
   "cell_type": "code",
   "execution_count": null,
   "id": "ebdc1ff0-4ad7-4abc-8f61-65760c8e63dd",
   "metadata": {},
   "outputs": [],
   "source": [
    "df_split.sort_values(by='county_k').head(50)"
   ]
  },
  {
   "cell_type": "code",
   "execution_count": null,
   "id": "a6b44f85-7a24-4135-b956-0f57dd978c3a",
   "metadata": {},
   "outputs": [],
   "source": [
    "df_split.value_counts('split_label_name')"
   ]
  },
  {
   "cell_type": "code",
   "execution_count": null,
   "id": "e3953303-3444-412c-ab3f-8b229ad82a4b",
   "metadata": {},
   "outputs": [],
   "source": [
    "df_split[df_split['split_label_name'].str.contains('DEATH') == True]"
   ]
  },
  {
   "cell_type": "code",
   "execution_count": null,
   "id": "33b1ae1e-4dbd-4380-b5c8-b4bbf8137b08",
   "metadata": {},
   "outputs": [],
   "source": [
    "df_split.label_name[0]"
   ]
  },
  {
   "cell_type": "code",
   "execution_count": null,
   "id": "ae36bfe1-9d1d-4ff4-970b-c2bc9d9efaec",
   "metadata": {},
   "outputs": [],
   "source": [
    "df_split.value_counts('split_label_name')"
   ]
  },
  {
   "cell_type": "code",
   "execution_count": null,
   "id": "a8166341-4432-4cc6-ad84-ac3122420825",
   "metadata": {},
   "outputs": [],
   "source": [
    "# Add predictions to df\n",
    "# TODO: Test that these counts make sense\n",
    "df = get_predictions(df)\n",
    "df_merged = get_split_label_df(db_conn, df)"
   ]
  },
  {
   "cell_type": "code",
   "execution_count": null,
   "id": "3711a6be-f43b-4550-9c30-9313897a8829",
   "metadata": {},
   "outputs": [],
   "source": [
    "df_merged.value_counts('split_label_name')"
   ]
  },
  {
   "cell_type": "code",
   "execution_count": null,
   "id": "34f2e2ae-6d69-4b81-b5d6-f31a190ae272",
   "metadata": {},
   "outputs": [],
   "source": [
    "# These are the true label counts across prediction = [0, 1]\n",
    "df_merged.value_counts('split_label_name')"
   ]
  },
  {
   "cell_type": "code",
   "execution_count": null,
   "id": "7ac858ea-a112-4b4e-a799-b2d3c4d8f7b3",
   "metadata": {},
   "outputs": [],
   "source": [
    "# These are the true label counts across prediction = 1\n",
    "# It seems that none of the prediction we make is an actual death ...\n",
    "df_merged[df_merged['prediction'] == 1].value_counts('split_label_name')"
   ]
  },
  {
   "cell_type": "markdown",
   "id": "9e372438-5385-4df2-9eb1-768ba1412edf",
   "metadata": {},
   "source": [
    "## Feature importance\n",
    "The most important features are age — by quite a margin — and then the number of mental health diagnoses in Johnson county, followed by ambulance runs. The ranking is fairly stable across validation splits."
   ]
  },
  {
   "cell_type": "code",
   "execution_count": null,
   "id": "6ebbd94e-b4f9-4d00-b761-5fb27c642162",
   "metadata": {},
   "outputs": [],
   "source": [
    "str_model_ids = ','.join([str(id) for id in model_ids])\n",
    "query = 'select * from results.feature_importance where model_id in({str_model_ids})'.format(str_model_ids=str_model_ids)\n",
    "df_imp = pd.read_sql(query, db_conn)"
   ]
  },
  {
   "cell_type": "code",
   "execution_count": null,
   "id": "9061f783-1b6d-45ce-beac-77459b5b5119",
   "metadata": {},
   "outputs": [],
   "source": [
    "# Feature importance of most recent training / validation split\n",
    "mean_importance = df_imp[df_imp['model_id'] == model_ids[-1]].groupby(['feature_name']).mean().sort_values('feature_importance', ascending=False)\n",
    "mean_importance"
   ]
  },
  {
   "cell_type": "code",
   "execution_count": null,
   "id": "bd8db726-0cae-42b6-bd91-88f3dd93747c",
   "metadata": {},
   "outputs": [],
   "source": [
    "sns.barplot(data=mean_importance.reset_index().head(10), y='feature_name', x='feature_importance')\n",
    "plt.xticks(rotation=90);"
   ]
  },
  {
   "cell_type": "markdown",
   "id": "f2021014-6510-4330-a530-abd62de476b6",
   "metadata": {},
   "source": [
    "## Score distribution"
   ]
  },
  {
   "cell_type": "code",
   "execution_count": null,
   "id": "b01f2e71-3f25-4067-9460-88dbf11aa0bc",
   "metadata": {},
   "outputs": [],
   "source": [
    "fig, axs = plt.subplots(2, 3, figsize=(18, 10))\n",
    "\n",
    "# TODO: Make this plots better, the density estimate is a bit misleading\n",
    "# Histograms are tough because of the huge class imbalance\n",
    "for i in range(2):\n",
    "    for j in range(3):\n",
    "        if (i + j) != 3:\n",
    "            p = sns.violinplot(data=df[df['model_id'] == model_ids[i+j]], y='score', x='label', ax=axs[i][j])\n",
    "            p.set(\n",
    "                title=titles[i+j],\n",
    "                ylim=[0, 0.2]\n",
    "            )"
   ]
  },
  {
   "cell_type": "code",
   "execution_count": null,
   "id": "53db3897-dd9b-4b3e-90ab-51cf405fc899",
   "metadata": {},
   "outputs": [],
   "source": [
    "# True labels have around an order of magnitude larger scores\n",
    "df.groupby(['model_id', 'as_of_date', 'label']).mean('score').drop(columns=['k', 'county_k', 'joid', 'value'])"
   ]
  }
 ],
 "metadata": {
  "kernelspec": {
   "display_name": "Python 3 (ipykernel)",
   "language": "python",
   "name": "python3"
  },
  "language_info": {
   "codemirror_mode": {
    "name": "ipython",
    "version": 3
   },
   "file_extension": ".py",
   "mimetype": "text/x-python",
   "name": "python",
   "nbconvert_exporter": "python",
   "pygments_lexer": "ipython3",
   "version": "3.10.4"
  }
 },
 "nbformat": 4,
 "nbformat_minor": 5
}
