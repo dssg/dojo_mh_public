{
 "cells": [
  {
   "cell_type": "code",
   "execution_count": null,
   "id": "0aaebeba-91d9-4b48-80a8-25a3d6a2fb11",
   "metadata": {},
   "outputs": [],
   "source": [
    "import sys\n",
    "sys.path.append('../src/')\n",
    "from helpers.helpers import *"
   ]
  },
  {
   "cell_type": "code",
   "execution_count": null,
   "id": "37fda1cb-a0b3-48de-a868-0e96d17a7cec",
   "metadata": {},
   "outputs": [],
   "source": [
    "conn = get_database_connection()"
   ]
  },
  {
   "cell_type": "markdown",
   "id": "face9a5c-7521-4e63-a42f-3dea282154ef",
   "metadata": {},
   "source": [
    "# Overview and summmary\n",
    "Brief exploration of the LMH data in Douglas county, looking into the frequency of various primary and secondary diagnoses."
   ]
  },
  {
   "cell_type": "code",
   "execution_count": null,
   "id": "5f91d93d-1ba7-46f0-8a5e-576858859470",
   "metadata": {},
   "outputs": [],
   "source": [
    "query = \"select * from clean.joco110hsccclientmisc2eadiagnosis\"\n",
    "df = pd.read_sql(query, conn)\n",
    "df.head()"
   ]
  },
  {
   "cell_type": "code",
   "execution_count": null,
   "id": "a94760bb-913f-4232-b23d-ecc89e71412f",
   "metadata": {},
   "outputs": [],
   "source": [
    "df.shape"
   ]
  },
  {
   "cell_type": "code",
   "execution_count": null,
   "id": "dafeb5ab-dcef-42be-9611-6996bd3c7fe4",
   "metadata": {},
   "outputs": [],
   "source": [
    "df.admission_year = pd.DatetimeIndex(df.admission_date).year\n",
    "df.groupby(df.admission_year).size().plot.bar();"
   ]
  },
  {
   "cell_type": "code",
   "execution_count": null,
   "id": "92808a0c-2f7f-4e96-b677-476493eb9c43",
   "metadata": {},
   "outputs": [],
   "source": [
    "(df.admission_year == 1990).sum() # One year seems to have been misclassified"
   ]
  },
  {
   "cell_type": "markdown",
   "id": "e427a0a1-4d7d-4cc1-8a98-7897db16b9f4",
   "metadata": {},
   "source": [
    "# Primary and secondary diagnosis"
   ]
  },
  {
   "cell_type": "code",
   "execution_count": null,
   "id": "693c3dd8-1d56-4908-9c15-dba8b8b856af",
   "metadata": {},
   "outputs": [],
   "source": [
    "primary_classification = df.primary_diagnosis_classification.value_counts().reset_index(name='n')\n",
    "secondary_classification = df.secondary_diagnosis_classification.value_counts().reset_index(name='n')"
   ]
  },
  {
   "cell_type": "code",
   "execution_count": null,
   "id": "58afba13-d1ae-4f8d-9c01-7b8233b9c4ba",
   "metadata": {},
   "outputs": [],
   "source": [
    "# The vast majority is not mental health / substance related\n",
    "primary_classification"
   ]
  },
  {
   "cell_type": "code",
   "execution_count": null,
   "id": "b1007fc2-e8cd-4cd0-86d9-19e3fedb402d",
   "metadata": {},
   "outputs": [],
   "source": [
    "# The vast majority is not mental health / substance related\n",
    "secondary_classification"
   ]
  },
  {
   "cell_type": "code",
   "execution_count": null,
   "id": "c4a2b4a7-9207-4d57-a1f7-1bf303255134",
   "metadata": {},
   "outputs": [],
   "source": [
    "# Most of the time the primary and secondary classification is the same\n",
    "np.round((df.primary_diagnosis_classification == df.secondary_diagnosis_classification).mean(), 2)"
   ]
  },
  {
   "cell_type": "code",
   "execution_count": null,
   "id": "43df79fe-0e10-450f-a7ca-e2da06f5b905",
   "metadata": {},
   "outputs": [],
   "source": [
    "# Let's look at cases where they are not the same and primary diagnosis is 'OTHER'\n",
    "# How many of the secondary classifications are *not* 'OTHER' and hence potentially valuable?\n",
    "condition_prim = ((df.primary_diagnosis_classification != df.secondary_diagnosis_classification) &\n",
    "             (df.primary_diagnosis_classification == 'OTHER'))\n",
    "df[condition_prim].shape"
   ]
  },
  {
   "cell_type": "code",
   "execution_count": null,
   "id": "79b228be-a408-471e-bc49-6cd672408f9c",
   "metadata": {},
   "outputs": [],
   "source": [
    "# Let's look at cases where they are not the same and secondary diagnosis is 'OTHER'\n",
    "# How many of the primary classifications are *not* 'OTHER' and hence potentially valuable?\n",
    "condition_sec = ((df.primary_diagnosis_classification != df.secondary_diagnosis_classification) &\n",
    "                   (df.secondary_diagnosis_classification == 'OTHER'))\n",
    "df[condition_sec].shape"
   ]
  },
  {
   "cell_type": "code",
   "execution_count": null,
   "id": "fb765c67-25ef-48c6-a4b7-95e7945f9730",
   "metadata": {},
   "outputs": [],
   "source": [
    "# The above shows that there are more cases where the secondary classification might be relevant\n",
    "# then the primary classification (given that they are different)\n",
    "# *TODO*: Get clarity on what is more accurate [ask Matt]"
   ]
  },
  {
   "cell_type": "markdown",
   "id": "c755fb7f-308f-400a-9bbe-a3447c839e44",
   "metadata": {},
   "source": [
    "# Primary and secondary diagnosis (more details)"
   ]
  },
  {
   "cell_type": "code",
   "execution_count": null,
   "id": "aee6634c-e1e5-4d3f-8e6d-2d6b1518bbf5",
   "metadata": {},
   "outputs": [],
   "source": [
    "primary_diagnosis = df.primarydiagnosis.value_counts().reset_index(name='n')\n",
    "primary_diagnosis['prop'] = primary_diagnosis['n'] / df.shape[0]\n",
    "\n",
    "secondary_diagnosis = df.secondarydiagnosis.value_counts().reset_index(name='n')\n",
    "secondary_diagnosis['prop'] = secondary_diagnosis['n'] / df.shape[0]"
   ]
  },
  {
   "cell_type": "code",
   "execution_count": null,
   "id": "d79273b8-2dfd-477a-8db7-06d56b4ac195",
   "metadata": {},
   "outputs": [],
   "source": [
    "# The top 20 primary impressions do not include any mental health related\n",
    "# issue except major depressive disorder as the 6th most occuring issue\n",
    "primary_diagnosis.head(20)"
   ]
  },
  {
   "cell_type": "code",
   "execution_count": null,
   "id": "b9437f88-36d0-4f74-849e-86ead3e6bca1",
   "metadata": {},
   "outputs": [],
   "source": [
    "# The top 20 primary impressions do not include any mental health related\n",
    "# issue except major depressive disorder as the 6th most occuring issue\n",
    "secondary_diagnosis.head(20)"
   ]
  },
  {
   "cell_type": "code",
   "execution_count": null,
   "id": "d8bf5c8e-5e27-48c2-b302-d20c6de1d5f3",
   "metadata": {},
   "outputs": [],
   "source": [
    "# Interestingly the most frequent combination is MDD + suicidal ideation\n",
    "df.groupby([df.primarydiagnosis, df.secondarydiagnosis]).size().reset_index(name='n').sort_values('n', ascending=False)"
   ]
  }
 ],
 "metadata": {
  "kernelspec": {
   "display_name": "Python 3 (ipykernel)",
   "language": "python",
   "name": "python3"
  },
  "language_info": {
   "codemirror_mode": {
    "name": "ipython",
    "version": 3
   },
   "file_extension": ".py",
   "mimetype": "text/x-python",
   "name": "python",
   "nbconvert_exporter": "python",
   "pygments_lexer": "ipython3",
   "version": "3.10.4"
  }
 },
 "nbformat": 4,
 "nbformat_minor": 5
}
