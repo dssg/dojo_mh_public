{
 "cells": [
  {
   "cell_type": "code",
   "execution_count": null,
   "id": "3e3e07c1-156b-48e7-8005-3a0e2ff11892",
   "metadata": {},
   "outputs": [],
   "source": [
    "import sys\n",
    "sys.path.append('../src/')\n",
    "from helpers.helpers import *"
   ]
  },
  {
   "cell_type": "markdown",
   "id": "7e19646e-6c5f-44d6-9e61-396603bf2a2e",
   "metadata": {},
   "source": [
    "# Overview\n",
    "\n",
    "This notebook gives an overview of the medical examiner data in both Johnson and Douglas county. The tables are **jocojcmexoverdosessuicides** and **jocodcmexoverdosessuicides**. We look at a few simple plots and summary statistics on age, suicide, and overdose."
   ]
  },
  {
   "cell_type": "code",
   "execution_count": null,
   "id": "a944aa4e-1e8b-4598-ab0b-ce1ef323c251",
   "metadata": {},
   "outputs": [],
   "source": [
    "def visualize_deaths_across_time(df):\n",
    "    '''Takes data frame, creates barplot of deaths across time'''\n",
    "    \n",
    "    df.deathyear = pd.DatetimeIndex(df.dateofdeath).year\n",
    "    df.groupby(df.deathyear).size().plot.bar()\n",
    "    \n",
    "    \n",
    "def visualize_suicides_across_time(df):\n",
    "    '''Takes data frame, creates barplot of overdoses across time'''\n",
    "    \n",
    "    b = df.groupby([df.deathyear, df.suicide]).size().reset_index(name='n')\n",
    "    sns.barplot(data=b, x='dateofdeath', y='n', hue='suicide')\n",
    "    \n",
    "    \n",
    "def visualize_overdoses_across_time(df):\n",
    "    '''Takes data frame, creates barplot of overdoses across time'''\n",
    "    \n",
    "    b = df.groupby([df.deathyear, df.overdosed]).size().reset_index(name='n')\n",
    "    sns.barplot(data=b, x='dateofdeath', y='n', hue='overdosed')\n",
    "\n",
    "    \n",
    "def visualize_fentanyl_across_time(df):\n",
    "    '''Takes data frame, creates barplot of overdoses across time'''\n",
    "    \n",
    "    b = df.groupby([df.deathyear, df.fentanyl]).size().reset_index(name='n')\n",
    "    b = b.rename(columns={'level_1': 'fentanyl'})\n",
    "    sns.barplot(data=b, x='dateofdeath', y='n', hue='fentanyl')"
   ]
  },
  {
   "cell_type": "code",
   "execution_count": null,
   "id": "7217f17a-64fd-464b-8cce-9bdc8d31da00",
   "metadata": {},
   "outputs": [],
   "source": [
    "conn = get_database_connection()"
   ]
  },
  {
   "cell_type": "markdown",
   "id": "7353dc3f-9058-49ed-98be-fa6fe6f800af",
   "metadata": {},
   "source": [
    "# County comparison and summary\n",
    "\n",
    "In both counties, deaths increased from 2017 until now. The main driver was an increase in overdoses. Johnson county has 657 observations while Douglas county has only 149. \n",
    "\n",
    "Douglas county has data on sex, Johnson county does not. Once joined with other tables we can get all relevant demographic data.\n",
    "\n",
    "Johnson county includes a column 'typeofdrug' (relevant for overdoses and poisoning), while Douglas county uses 'causeofdeath1' and 'causeofdeath2' to encode the type of drug. I have left this as is for now, since we probably do not require going in much detail into the type of drugs."
   ]
  },
  {
   "cell_type": "markdown",
   "id": "a92f7174-b379-488b-bb7d-624303194688",
   "metadata": {},
   "source": [
    "# Johnson county data"
   ]
  },
  {
   "cell_type": "code",
   "execution_count": null,
   "id": "6675bfa6-f6bc-4e50-aa66-8540e4ac65a2",
   "metadata": {},
   "outputs": [],
   "source": [
    "query = \"select * from clean.jocojcmexoverdosessuicides\"\n",
    "df = pd.read_sql(query, conn)\n",
    "df.head()"
   ]
  },
  {
   "cell_type": "code",
   "execution_count": null,
   "id": "965f06b6-99c1-4f8d-ab6d-1bde6d7bc156",
   "metadata": {},
   "outputs": [],
   "source": [
    "# n = 657\n",
    "df.shape"
   ]
  },
  {
   "cell_type": "code",
   "execution_count": null,
   "id": "8439fe5e-d5da-43cb-a272-b705b103b8c5",
   "metadata": {},
   "outputs": [],
   "source": [
    "df.mannerofdeath.value_counts()"
   ]
  },
  {
   "cell_type": "code",
   "execution_count": null,
   "id": "d36fbf0c-a30a-4359-b599-39f2654ed94a",
   "metadata": {},
   "outputs": [],
   "source": [
    "# 400 suicides over 5 years (2017 - 2022) is not a lot ...\n",
    "df.suicide.value_counts()"
   ]
  },
  {
   "cell_type": "code",
   "execution_count": null,
   "id": "227588a4-14ba-471f-98ef-2e367d383d56",
   "metadata": {},
   "outputs": [],
   "source": [
    "# 299 overdoses over 5 years (2017 - 2022) is not a lot ...\n",
    "df.overdosed.value_counts()"
   ]
  },
  {
   "cell_type": "code",
   "execution_count": null,
   "id": "6e5c42da-d27a-4dcd-921d-ae3937f881bb",
   "metadata": {},
   "outputs": [],
   "source": [
    "# There is only a small percentage of suicides by overdoses\n",
    "np.round((df.suicide == df.overdosed).mean(), 2)"
   ]
  },
  {
   "cell_type": "code",
   "execution_count": null,
   "id": "564a225a-83ea-4e0a-9d4c-0c64fb665fab",
   "metadata": {},
   "outputs": [],
   "source": [
    "# Not the same as n = 657 because value 'Undetermined' is in fact no overdose or suicide\n",
    "(df.suicide | df.overdosed).sum()"
   ]
  },
  {
   "cell_type": "markdown",
   "id": "e4628871-1570-4f5e-bb0d-39bca2a3ce9a",
   "metadata": {},
   "source": [
    "## Trends across years and age"
   ]
  },
  {
   "cell_type": "code",
   "execution_count": null,
   "id": "19648420-c853-40d7-a4b2-5068dcbf97e7",
   "metadata": {},
   "outputs": [],
   "source": [
    "visualize_deaths_across_time(df);"
   ]
  },
  {
   "cell_type": "code",
   "execution_count": null,
   "id": "2547afc4-3a78-4a25-8ec2-dca9a5297947",
   "metadata": {},
   "outputs": [],
   "source": [
    "# Suicides did not really increase over time\n",
    "visualize_suicides_across_time(df);"
   ]
  },
  {
   "cell_type": "code",
   "execution_count": null,
   "id": "63a43f88-b3d9-4989-9d43-a1c6d2aec885",
   "metadata": {},
   "outputs": [],
   "source": [
    "# We can do the same plot for overdose, which will show (as expected by the small\n",
    "# overlap in percentage) that the rise in deaths is due to a rise in overdoses\n",
    "visualize_overdoses_across_time(df);"
   ]
  },
  {
   "cell_type": "code",
   "execution_count": null,
   "id": "85d74339-57b4-40e3-8ef5-7f6ecab89c02",
   "metadata": {},
   "outputs": [],
   "source": [
    "# Fentanyl deaths increased dramatically over the last 5 years\n",
    "def died_of_fentanyl(x):\n",
    "    return False if x is None or 'FENTANYL' not in x else True\n",
    "\n",
    "df.fentanyl = pd.Series([died_of_fentanyl(x) for x in list(df.typeofdrugs)])\n",
    "visualize_fentanyl_across_time(df);"
   ]
  },
  {
   "cell_type": "code",
   "execution_count": null,
   "id": "3febc77e-0e35-42a6-9381-28bbe709aff6",
   "metadata": {},
   "outputs": [],
   "source": [
    "# Deaths affect many age groups, but primarily the young\n",
    "df.groupby(df.overdosed).age.hist(legend=True);"
   ]
  },
  {
   "cell_type": "code",
   "execution_count": null,
   "id": "5a76036c-9e52-47f7-b2a0-33055dd8b35a",
   "metadata": {},
   "outputs": [],
   "source": [
    "# There are two cases where the age is zero\n",
    "# This is due to an error in the date of birth\n",
    "np.sum(df.age == 0)"
   ]
  },
  {
   "cell_type": "code",
   "execution_count": null,
   "id": "f90112b2-d371-4cb0-8d53-35513dc99ff8",
   "metadata": {},
   "outputs": [],
   "source": [
    "# Looks like there is not much difference in age in people\n",
    "# who overdosed compared to those who did not\n",
    "sns.violinplot(data=df, x='overdosed', y='age');"
   ]
  },
  {
   "cell_type": "code",
   "execution_count": null,
   "id": "9b139561-0168-40d9-86cf-06498d916405",
   "metadata": {},
   "outputs": [],
   "source": [
    "# Seems like the reverse from above, but it's not quite it since there is some overlap\n",
    "sns.violinplot(data=df, x='suicide', y='age');"
   ]
  },
  {
   "cell_type": "markdown",
   "id": "c1d6a1f0-69e6-4244-a846-09f9cd656032",
   "metadata": {},
   "source": [
    "# Douglas county data"
   ]
  },
  {
   "cell_type": "code",
   "execution_count": null,
   "id": "367ad43d-0717-496d-b688-723508f1bc5f",
   "metadata": {},
   "outputs": [],
   "source": [
    "query = \"select * from clean.jocodcmexoverdosessuicides\"\n",
    "dc = pd.read_sql(query, conn)\n",
    "dc.head()"
   ]
  },
  {
   "cell_type": "code",
   "execution_count": null,
   "id": "7ff97cb0-6b92-41ee-8559-bc940f9f7137",
   "metadata": {},
   "outputs": [],
   "source": [
    "# n = 149\n",
    "dc.shape"
   ]
  },
  {
   "cell_type": "code",
   "execution_count": null,
   "id": "ce0646fc-6c1b-4281-993f-a4bf95f7d4e7",
   "metadata": {},
   "outputs": [],
   "source": [
    "dc.sex.value_counts()"
   ]
  },
  {
   "cell_type": "code",
   "execution_count": null,
   "id": "16b76314-f63a-4c93-93c2-f31ae38a9720",
   "metadata": {},
   "outputs": [],
   "source": [
    "dc.mannerofdeath.value_counts()"
   ]
  },
  {
   "cell_type": "code",
   "execution_count": null,
   "id": "4b36fd52-e441-4ff3-9d5a-caf8357f87cb",
   "metadata": {},
   "outputs": [],
   "source": [
    "dc.suicide.value_counts()"
   ]
  },
  {
   "cell_type": "code",
   "execution_count": null,
   "id": "1f52d662-7ff2-4ce6-b418-2dcb9f8fd4a9",
   "metadata": {},
   "outputs": [],
   "source": [
    "dc.overdosed.value_counts()"
   ]
  },
  {
   "cell_type": "code",
   "execution_count": null,
   "id": "7ef3e883-264d-436a-88da-08d1757b84d2",
   "metadata": {},
   "outputs": [],
   "source": [
    "# Proportionally more women overdosed than men\n",
    "dc.groupby(['sex', 'overdosed']).size()"
   ]
  },
  {
   "cell_type": "markdown",
   "id": "bedc5c70-0deb-468a-9bb5-2da89b9c7d25",
   "metadata": {},
   "source": [
    "## Trends across years and age"
   ]
  },
  {
   "cell_type": "code",
   "execution_count": null,
   "id": "eee3d7e3-a101-4a61-85b8-b749feaeeb70",
   "metadata": {},
   "outputs": [],
   "source": [
    "# Deaths increased quite a bit from 2017 to 2021\n",
    "visualize_deaths_across_time(dc);"
   ]
  },
  {
   "cell_type": "code",
   "execution_count": null,
   "id": "33da4816-f546-495d-9a72-fea53b6e0573",
   "metadata": {},
   "outputs": [],
   "source": [
    "# Suicides did not really increase over time\n",
    "visualize_suicides_across_time(dc);"
   ]
  },
  {
   "cell_type": "code",
   "execution_count": null,
   "id": "295beda6-da82-4eca-b954-88616cda3aca",
   "metadata": {},
   "outputs": [],
   "source": [
    "# Overdoses rose across years\n",
    "visualize_overdoses_across_time(dc);"
   ]
  },
  {
   "cell_type": "code",
   "execution_count": null,
   "id": "ee6e1cf0-84bc-4550-99d1-51c3288288ae",
   "metadata": {},
   "outputs": [],
   "source": [
    "# Fentanyl data is more spotty here in Douglas county (+2 in 2022 when using causeofdeath2)\n",
    "dc.fentanyl = pd.Series([died_of_fentanyl(x) for x in list(dc.causeofdeath1)])\n",
    "visualize_fentanyl_across_time(dc);"
   ]
  },
  {
   "cell_type": "code",
   "execution_count": null,
   "id": "e86f4eab-90db-4a78-b3e0-5ea498e3568b",
   "metadata": {},
   "outputs": [],
   "source": [
    "# The latest data we have from 2022 is end of February!\n",
    "dc.dateofdeath.max()"
   ]
  },
  {
   "cell_type": "code",
   "execution_count": null,
   "id": "c983c4b8-6283-40b8-96a9-680e156a2d8c",
   "metadata": {},
   "outputs": [],
   "source": [
    "# There is only a small percentage of suicides by overdoses\n",
    "np.round((dc.suicide == dc.overdosed).mean(), 2)"
   ]
  },
  {
   "cell_type": "code",
   "execution_count": null,
   "id": "639e6eb6-5f17-4273-b1a0-c693d8a4e30f",
   "metadata": {},
   "outputs": [],
   "source": [
    "# Equals n = 149 because value 'Could not be determined' coded as overdose\n",
    "(dc.suicide | dc.overdosed).sum()"
   ]
  },
  {
   "cell_type": "code",
   "execution_count": null,
   "id": "c2614c9c-828a-490c-b3bd-e25c2749469d",
   "metadata": {},
   "outputs": [],
   "source": [
    "# Looks like the folks who did not overdose tend to be younger\n",
    "sns.violinplot(data=dc, x='overdosed', y='age');"
   ]
  }
 ],
 "metadata": {
  "kernelspec": {
   "display_name": "Python 3 (ipykernel)",
   "language": "python",
   "name": "python3"
  },
  "language_info": {
   "codemirror_mode": {
    "name": "ipython",
    "version": 3
   },
   "file_extension": ".py",
   "mimetype": "text/x-python",
   "name": "python",
   "nbconvert_exporter": "python",
   "pygments_lexer": "ipython3",
   "version": "3.10.4"
  }
 },
 "nbformat": 4,
 "nbformat_minor": 5
}
