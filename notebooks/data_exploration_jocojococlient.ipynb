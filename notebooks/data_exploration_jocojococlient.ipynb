{
 "cells": [
  {
   "cell_type": "markdown",
   "metadata": {},
   "source": [
    "## Data Exploration - Client Matching Table"
   ]
  },
  {
   "cell_type": "code",
   "execution_count": null,
   "metadata": {},
   "outputs": [],
   "source": [
    "# Load libraries\n",
    "import sys\n",
    "import os\n",
    "import datetime \n",
    "import numpy as np\n",
    "import pandas as pd\n",
    "import seaborn as sns\n",
    "import matplotlib.pyplot as plt\n",
    "\n",
    "from sqlalchemy import create_engine"
   ]
  },
  {
   "cell_type": "code",
   "execution_count": null,
   "metadata": {},
   "outputs": [],
   "source": [
    "# Import helper functions\n",
    "sys.path.append('../src/')\n",
    "from helpers.helpers import get_database_connection as get_db_conn"
   ]
  },
  {
   "cell_type": "code",
   "execution_count": null,
   "metadata": {},
   "outputs": [],
   "source": [
    "# Visualization functions\n",
    "\n",
    "def visualize_dob_across_time(df):\n",
    "    '''Takes data frame, creates barplot of births across time'''\n",
    "    dob_df = df.copy()\n",
    "    dob_df.dob = pd.DatetimeIndex(dob_df.dob).year\n",
    "    dob_df.groupby(dob_df.dob).size().plot.bar(figsize=(20,5))\n",
    "\n",
    "def visualize_sources(df):\n",
    "    '''Takes data frame, creates barplot of rows per source'''\n",
    "    plot_df = df.copy()\n",
    "    plot_df.groupby(plot_df.source).size().sort_values(ascending=False).plot.bar(figsize=(10,5))\n",
    "\n",
    "def visualize_joids(joid_df):\n",
    "    '''Takes data frame, creates barplot of how often each joid appears in the table'''\n",
    "    plot_df = joid_df.copy()\n",
    "    plot_df[\"count\"].plot.bar(figsize=(10,5))\n",
    "\n",
    "def visualize_matching(df):\n",
    "    '''Takes data frame, creates barplot of how well records were matched'''\n",
    "    plot_df = df.copy()\n",
    "    plot_df.groupby(plot_df.joidassignedby).size().sort_values(ascending=False).plot.bar(figsize=(10,5))\n"
   ]
  },
  {
   "cell_type": "code",
   "execution_count": null,
   "metadata": {},
   "outputs": [],
   "source": [
    "# Set connection\n",
    "db_conn = get_db_conn()\n",
    "db_conn"
   ]
  },
  {
   "cell_type": "code",
   "execution_count": null,
   "metadata": {},
   "outputs": [],
   "source": [
    "# Load data\n",
    "df_q = \"\"\"SELECT * FROM clean.jocojococlient;\"\"\"\n",
    "df = pd.read_sql(df_q, db_conn)\n",
    "df"
   ]
  },
  {
   "cell_type": "markdown",
   "metadata": {},
   "source": [
    "### Overview"
   ]
  },
  {
   "cell_type": "code",
   "execution_count": null,
   "metadata": {},
   "outputs": [],
   "source": [
    "# Null values per column\n",
    "df.isna().sum()"
   ]
  },
  {
   "cell_type": "markdown",
   "metadata": {},
   "source": [
    "Some records are matched through source id, others through hash_sourceid, so we would expect some nulls in these columns. "
   ]
  },
  {
   "cell_type": "code",
   "execution_count": null,
   "metadata": {},
   "outputs": [],
   "source": [
    "# Unique values per column\n",
    "df.nunique()"
   ]
  },
  {
   "cell_type": "markdown",
   "metadata": {},
   "source": [
    "* There are a total of 1,262,067 distinct joids, each of them appears 1.6 times in this table. \n",
    "* Urno and id are equivalent to the number of rows -> we should remove urno from the table. \n",
    "* We have a total of 10 sources of data (some joids match to a hash_sourceid instead of a sourceid)"
   ]
  },
  {
   "cell_type": "code",
   "execution_count": null,
   "metadata": {},
   "outputs": [],
   "source": [
    "# Histogram - date of birth\n",
    "visualize_dob_across_time(df)"
   ]
  },
  {
   "cell_type": "markdown",
   "metadata": {},
   "source": [
    "There are about 5000 dates of birth default values (1900-01-01) - they need to be set to null. "
   ]
  },
  {
   "cell_type": "code",
   "execution_count": null,
   "metadata": {},
   "outputs": [],
   "source": [
    "df[['dob','urno']].groupby(['dob'])['urno'] \\\n",
    "                             .count() \\\n",
    "                             .reset_index(name='count') \\\n",
    "                             .sort_values(['count'], ascending=False) \\\n",
    "                             .head(10)"
   ]
  },
  {
   "cell_type": "code",
   "execution_count": null,
   "metadata": {},
   "outputs": [],
   "source": [
    "# Rows per source\n",
    "df['source'].value_counts()"
   ]
  },
  {
   "cell_type": "code",
   "execution_count": null,
   "metadata": {},
   "outputs": [],
   "source": [
    "# Rows per source - viz\n",
    "visualize_sources(df)"
   ]
  },
  {
   "cell_type": "markdown",
   "metadata": {},
   "source": [
    "The source with the highest number of rows is JIMS, followed by MedACT."
   ]
  },
  {
   "cell_type": "code",
   "execution_count": null,
   "metadata": {},
   "outputs": [],
   "source": [
    "# joid counts (faster than through df)\n",
    "joid_df_q = \"\"\"select joid, count(*)\n",
    "    from clean.jocojococlient\n",
    "    group by joid \n",
    "    order by count(*) desc;\"\"\"\n",
    "joid_df = pd.read_sql(joid_df_q, db_conn)\n",
    "joid_df\n"
   ]
  },
  {
   "cell_type": "markdown",
   "metadata": {},
   "source": [
    "Some joids are repeated more than 100 times in the table. Some of these would appear to correspond to individuals with multiple ids in the relevant source, e.g. if the source id is not at the person's level or they are not able to match well specific individuals. "
   ]
  },
  {
   "cell_type": "markdown",
   "metadata": {},
   "source": [
    "### Analysis of matching across columns"
   ]
  },
  {
   "cell_type": "markdown",
   "metadata": {},
   "source": [
    "#### Matching: \n",
    "- As explained by Steve, record matching is done through 4 fields:\n",
    "    * first name (yes or no)\n",
    "    * last name (yes or no)\n",
    "    * social security number (0, 4, or 9 numbers matched)\n",
    "    * date of birth (yes or no)\n",
    "The column joidassignedby summarizes how those columns were matched, and the following 4 columns (e.g. lastnamepop) show how each individual column was matched."
   ]
  },
  {
   "cell_type": "code",
   "execution_count": null,
   "metadata": {},
   "outputs": [],
   "source": [
    "# Show how well matching was done\n",
    "visualize_matching(df)"
   ]
  },
  {
   "cell_type": "markdown",
   "metadata": {},
   "source": [
    "Most records were matched at 400(1-1-049-1), 100(1-1-9-1) or 300(1-1-049-1). These seem to indicate quite accurate matches, but it is unclear what the initial number means -> ask Steve for further clarification."
   ]
  },
  {
   "cell_type": "markdown",
   "metadata": {},
   "source": [
    "#### How to match individuals across tables? \n",
    "\n",
    "* The jocojococlient has one joid per individual. \n",
    "* Each individual (joid) may be linked to other sources through either the sourceid or the hash_sourceid. \n",
    "* The source field indicates what column to match the sourceid/hash_sourceid to.\n",
    "    * e.g. JOCOJCMHCDEMOGRAPHICS.PATID: for any MHC data, we can link a patid (id of MHC tables) to a joid. This means that we need to match both source = 'JOCOJCMHCDEMOGRAPHICS.PATID' AND sourceid = 'patid'\n",
    "    * e.g. JOCOMEDACTINCIDENTS.RCDID: in the case of MedACT data, we actually matched to the hash_id, meaning we need to match both source = 'JOCOMEDACTINCIDENTS.RCDID' AND hash_sourceid = hash_rcdid\n",
    "* Each joid can be linked to multiple sources. \n",
    "* Each joid can be linked to multiple sourceid/hash_sourceid from one same source (see explanation further down)"
   ]
  },
  {
   "cell_type": "code",
   "execution_count": null,
   "metadata": {},
   "outputs": [],
   "source": [
    "# SQL parameters\n",
    "schema = \"clean\"\n",
    "tables_dict = {\n",
    "    'jocojcmhcdiagnoses': {\n",
    "        \"id\": \"patid\", \n",
    "        \"joco_id_col\": \"sourceid\",\n",
    "        \"source\": \"'JOCOJCMHCDEMOGRAPHICS.PATID'\"\n",
    "        },\n",
    "    'jocomedactincidents': {\n",
    "        \"id\": \"hash_rcdid\",\n",
    "        \"joco_id_col\": \"hash_sourceid\",\n",
    "        \"source\": \"'JOCOMEDACTINCIDENTS.RCDID'\"\n",
    "        },\n",
    "    'joco110hsccclientmisc2eaimpression': {\n",
    "        \"id\": \"clientid\",\n",
    "        \"joco_id_col\": \"sourceid\",\n",
    "        \"source\": \"'JOCO110HSCCCLIENT2.CLIENTID'\"\n",
    "    },\n",
    "    'jocojcmexoverdosessuicides': {\n",
    "        \"id\": \"id\", \n",
    "        \"joco_id_col\": \"sourceid\",\n",
    "        \"source\": \"'JOCOJCMEXOVERDOSESSUICIDES.ID'\"\n",
    "    },\n",
    "    'jocodcmexoverdosessuicides': {\n",
    "        \"id\": \"casenum\", \n",
    "        \"joco_id_col\": \"sourceid\",\n",
    "        \"source\": \"'JOCODCMEXOVERDOSESSUICIDES.CASENUM'\"\n",
    "    },\n",
    "    'joco110hsccclientmisc2eadiagnosis': {\n",
    "        \"id\": \"clientid\", \n",
    "        \"joco_id_col\": \"sourceid\",\n",
    "        \"source\": \"'JOCO110HSCCCLIENT2.CLIENTID'\"\n",
    "    },\n",
    "    'jocojimsmnhdata': {\n",
    "        \"id\": \"mni\", \n",
    "        \"joco_id_col\": \"sourceid\",\n",
    "        \"source\": \"'JOCOJIMSNAMEINDEX.MNI_NO_0'\"\n",
    "    },\n",
    "}\n"
   ]
  },
  {
   "cell_type": "code",
   "execution_count": null,
   "metadata": {},
   "outputs": [],
   "source": [
    "# SQL Query\n",
    "sql_q_empty = \"\"\"\n",
    "\t\t\twith source_table_count as (\n",
    "\t\t\t\tselect \n",
    "\t\t\t\t\tcount(distinct {}) as unique_id_count,\n",
    "\t\t\t\t\tcount({}) as id_count\n",
    "\t\t\t\tfrom {}.{}\n",
    "\t\t\t),\n",
    "\t\t\tjoclient_count as (\n",
    "\t\t\t\t\tselect \n",
    "\t\t\t\t\t\tcount(distinct {}) as unique_sourceid_count,\n",
    "\t\t\t\t\t\tcount({}) as sourceid_count\n",
    "\t\t\t\t\tfrom {}.jocojococlient\n",
    "\t\t\t\t\twhere \"source\" = {}\n",
    "\t\t\t),\n",
    "\t\t\tmatched_count as (\n",
    "\t\t\t\t\tselect count(distinct c.{}) as unique_matched_ids_count\n",
    "\t\t\t\t\tfrom {}.{} t\n",
    "\t\t\t\t\tinner join {}.jocojococlient c\n",
    "\t\t\t\t\ton t.{} = c.{}\n",
    "\t\t\t\t\twhere c.\"source\" = {}\n",
    "\t\t\t)\n",
    "\t\t\tselect distinct\n",
    "\t\t\t\t'{}' as table_name,\n",
    "\t\t\t\t'{}' as unique_id,\n",
    "\t\t\t\t\n",
    "\t\t\t\t(\n",
    "\t\t\t\t\tselect unique_id_count\n",
    "\t\t\t\t\tfrom source_table_count\n",
    "\t\t\t\t) as unique_id_count,\n",
    "\t\t\t\t(\n",
    "\t\t\t\t\tselect id_count\n",
    "\t\t\t\t\tfrom source_table_count\n",
    "\t\t\t\t) as id_count,\n",
    "\t\t\t\t(\n",
    "\t\t\t\t\tselect unique_sourceid_count\n",
    "\t\t\t\t\tfrom joclient_count\n",
    "\t\t\t\t) as unique_sourceid_count,\n",
    "\t\t\t\t(\n",
    "\t\t\t\t\tselect sourceid_count\n",
    "\t\t\t\t\tfrom joclient_count\n",
    "\t\t\t\t) as sourceid_count,\n",
    "\t\t\t\t(\n",
    "\t\t\t\t\tselect unique_matched_ids_count\n",
    "\t\t\t\t\tfrom matched_count\n",
    "\t\t\t\t) as unique_matched_ids_count,\n",
    "\t\t\t\t((\n",
    "\t\t\t\t\tselect unique_matched_ids_count\n",
    "\t\t\t\t\tfrom matched_count\n",
    "\t\t\t\t) * 1.0 / (\n",
    "\t\t\t\t\tselect unique_id_count\n",
    "\t\t\t\t\tfrom source_table_count\n",
    "\t\t\t\t)) as pct_matched;\n",
    "\t\t\t\"\"\""
   ]
  },
  {
   "cell_type": "code",
   "execution_count": null,
   "metadata": {},
   "outputs": [],
   "source": [
    "# Return counts of matches with jocojococlient table\n",
    "counts_df = pd.DataFrame(\n",
    "    columns = [\"table_name\", \"unique_id\", \"unique_sourceid_count\",\n",
    "                \"sourceid_count\", \"unique_id_count\", \"id_count\"])\n",
    "\n",
    "for table, vals in tables_dict.items():\n",
    "    id = vals[\"id\"]\n",
    "    source = vals[\"source\"]\n",
    "    joco_id_col = vals[\"joco_id_col\"]\n",
    "    sql_q = sql_q_empty.format(id, id, schema, table, \n",
    "                                joco_id_col, joco_id_col, schema, source,\n",
    "                                joco_id_col, schema, table, schema, id, joco_id_col, source, \n",
    "                                table, id)\n",
    "    counts_df = pd.concat([counts_df,\n",
    "                            pd.read_sql(sql_q, db_conn)])\n",
    "\n",
    "counts_df"
   ]
  },
  {
   "cell_type": "markdown",
   "metadata": {},
   "source": [
    "#### Columns above: \n",
    "* unique_id: name of id column in source table\n",
    "* unique_source_id_count: count of unique ids in source table\n",
    "* sourceid_count: count of ids in source table\n",
    "* unique_id_count: count of unique ids in jocojococlient table related to the source table \n",
    "* id_count: count of ids in jocojococlient table related to the source table\n",
    "* pct_matched: % of unique ids in the source table that appear in the jocojococlient table"
   ]
  },
  {
   "cell_type": "markdown",
   "metadata": {},
   "source": [
    "#### General comments: \n",
    "* The matches are working well across key tables considered\n",
    "* Almost all ids in the source tables are found in the jocojococlient table\n",
    "* The tables where we see repeated ids the most are jocojcmhcdiagnoses, joco110hsccclientmisc2eaimpression, and joco110hsccclientmisc2eadiagnosis\n",
    "* For the following columns, we have (almost) a one-to-one relationship: jocodcmexoverdosessuicides, jocojcmexoverdosessuicides, jocomedactincidents\n",
    "\n",
    "#### Repeated ids:\n",
    "* Some joids will match to several sources, meaning these individuals have interacted with several parts of the system. \n",
    "* As mentioned above, one same joid may match to multiple sourceid/hash_sourceid (e.g. patid for MHC data) within one source (e.g. JOCOJCMHCDEMOGRAPHICS.PATID). For example,joid 1 may be linked to the patid id A and patid id B. This may happen for several reasons:\n",
    "    1. There may be an issue in the jocojococlient record matching (we may be matching individuals A and B to one same joid 1 because they have the same name, but they may not correspond to the same person).\n",
    "    2. The source may be failing to match individuals to their ids, e.g. one individual calls MHC and is given the patid A, and then they complete an in-person MHC assessment  and are assigned the patid B. In this case, one same person has two different patids, but we're then able to link it to the same joid 1 thanks to the record matching proces in MyRC. \n",
    "    3. The source ids may not refer to individuals. For example, MHC may assign a patid per case rather than per individual.\n",
    "\n",
    "\n",
    "Tables matched on sourceid:\n",
    "* 14.3% joids appear in more than 1 source\n",
    "* 4.5% of joids matched by sourceid have duplicate sourceids, meaning one same joid has more than 1 sourceid (e.g. patids)\n",
    "* The most significant cases are found in JIMS data, with one joid being matched to 18 mni ids\n",
    "    * The ids that are most repeated in JIMS are generally matched by first and last name, not by ssn and dob \n",
    "        * Is this matching reliable? ssn and dob data may not be very prevalent in JIMS data? \n",
    "        * Would we get different mni ids for different parts of the law enforcement system, e.g. different jails? \n",
    "\n",
    "Tables matched on hash_sourceid (MedACT):\n",
    "* MedACT data is where we see the most cases of a joid matched to multiple hash_sourceid\n",
    "* The most significant case is a joid being matched to 164 hash_sourceids\n",
    "* This duplicity per joid in MedACT data is quite significant compared to other tables (the matching is also different) - we discussed they might not necessarily assign 1 id per person\n",
    "\n",
    "Further data analysis for each source will be done separately, but the matches to jocojococlient appear to be working. "
   ]
  }
 ],
 "metadata": {
  "kernelspec": {
   "display_name": "Python 3 (ipykernel)",
   "language": "python",
   "name": "python3"
  },
  "language_info": {
   "codemirror_mode": {
    "name": "ipython",
    "version": 3
   },
   "file_extension": ".py",
   "mimetype": "text/x-python",
   "name": "python",
   "nbconvert_exporter": "python",
   "pygments_lexer": "ipython3",
   "version": "3.10.4"
  }
 },
 "nbformat": 4,
 "nbformat_minor": 4
}
