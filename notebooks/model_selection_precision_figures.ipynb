{
 "cells": [
  {
   "cell_type": "code",
   "execution_count": null,
   "id": "662f3a6a-08a5-4598-aae8-4a0b8f0a3af9",
   "metadata": {},
   "outputs": [],
   "source": [
    "import os\n",
    "import numpy as np\n",
    "import pandas as pd\n",
    "import seaborn as sns\n",
    "import aequitas.plot as ap\n",
    "from aequitas.bias import Bias\n",
    "from aequitas.group import Group\n",
    "from postmodeling.evaluation import (\n",
    "    get_predictions,\n",
    "    rank_models,\n",
    "    get_best_modelsets\n",
    ")\n",
    "from utils.helpers import (\n",
    "    load_models,\n",
    "    get_database_connection\n",
    ")\n",
    "import matplotlib\n",
    "from joblib import load\n",
    "from matplotlib import pyplot as plt\n",
    "from sklearn.tree import plot_tree\n",
    "from utils.constants import LABEL_MAPPING, MODELS_PATH"
   ]
  },
  {
   "cell_type": "code",
   "execution_count": null,
   "id": "00af42f4-1f27-46ba-b31e-d0262f453f82",
   "metadata": {},
   "outputs": [],
   "source": [
    "db_conn = get_database_connection()"
   ]
  },
  {
   "cell_type": "markdown",
   "id": "e568c34e-2f74-49c7-9457-c76722458dbc",
   "metadata": {},
   "source": [
    "## Overview\n",
    "This notebook creates precision plots for the best models and best baselines across label groups for Johnson and Douglas County, respectively. We select the best model sets across counties and label groups that minimize regret averaged over time splits. NB: One issue is that not all model sets were ran on all time splits."
   ]
  },
  {
   "cell_type": "markdown",
   "id": "64fb534c-17de-4933-a93d-549c3a416d27",
   "metadata": {},
   "source": [
    "## Finding best models and baselines"
   ]
  },
  {
   "cell_type": "code",
   "execution_count": null,
   "id": "ac7168de-fcd0-4859-9acc-f25931a41798",
   "metadata": {},
   "outputs": [],
   "source": [
    "months_future = 6"
   ]
  },
  {
   "cell_type": "code",
   "execution_count": null,
   "id": "93f68f9a-d3fd-4145-b33a-fef91b86e522",
   "metadata": {},
   "outputs": [],
   "source": [
    "# Used for the final figure in the technical report\n",
    "best_joco = get_best_modelsets(db_conn, county='joco', rank_on='regret', top=1, months_future=months_future, min_dates=4)"
   ]
  },
  {
   "cell_type": "code",
   "execution_count": null,
   "id": "15234c91-d7c0-4af7-bc93-5873c78e2c06",
   "metadata": {},
   "outputs": [],
   "source": [
    "# Use min_dates = 5 to avoid selecting baselines that ran for only 4 validation splits\n",
    "best_joco_baselines = get_best_modelsets(\n",
    "    db_conn, county='joco', rank_on='regret', top=1,\n",
    "    model_types=['FeatureRanker', 'LinearRanker'], months_future=months_future, min_dates=5,\n",
    ")"
   ]
  },
  {
   "cell_type": "code",
   "execution_count": null,
   "id": "dabdb062-30aa-4bc5-b6d9-d861fe3fe4cb",
   "metadata": {},
   "outputs": [],
   "source": [
    "# Used for the final figure in the technical report, use min_dates = 6 to get more splits\n",
    "best_doco = get_best_modelsets(db_conn, county='doco', rank_on='regret', top=1, months_future=months_future, min_dates=6)"
   ]
  },
  {
   "cell_type": "code",
   "execution_count": null,
   "id": "98806032-94d3-4d2f-a41c-f70de51a13d7",
   "metadata": {},
   "outputs": [],
   "source": [
    "# Used for the final figure in the technical report, use min_dates = 8 to get more splits\n",
    "best_doco_baselines = get_best_modelsets(\n",
    "    db_conn, county='doco', rank_on='regret', top=1,\n",
    "    model_types=['FeatureRanker', 'LinearRanker'], months_future=months_future, min_dates=8\n",
    ")"
   ]
  },
  {
   "cell_type": "code",
   "execution_count": null,
   "id": "08778748-d529-4447-a8c8-8f5b6a0d1b83",
   "metadata": {},
   "outputs": [],
   "source": [
    "best_joco"
   ]
  },
  {
   "cell_type": "code",
   "execution_count": null,
   "id": "c09c6ef5-5498-458f-b3c1-aca032d8f700",
   "metadata": {},
   "outputs": [],
   "source": [
    "best_joco_baselines"
   ]
  },
  {
   "cell_type": "code",
   "execution_count": null,
   "id": "dbbe89f9-a456-4d83-8185-05e6792ee844",
   "metadata": {},
   "outputs": [],
   "source": [
    "best_doco"
   ]
  },
  {
   "cell_type": "code",
   "execution_count": null,
   "id": "2217c6ca-41dc-4ae3-a827-507f48cdb275",
   "metadata": {},
   "outputs": [],
   "source": [
    "best_doco_baselines"
   ]
  },
  {
   "cell_type": "markdown",
   "id": "ceeb541d-c4a4-4b2b-bd51-18edbd068a44",
   "metadata": {},
   "source": [
    "## Performance across label groups"
   ]
  },
  {
   "cell_type": "code",
   "execution_count": null,
   "id": "f2b891c1-628c-4f0b-967e-fccc860766d7",
   "metadata": {},
   "outputs": [],
   "source": [
    "best_joco['Baseline'] = False # Assumes that the best model never is a baseline\n",
    "best_joco_baselines['Baseline'] = True\n",
    "df_joco = pd.concat([best_joco, best_joco_baselines])"
   ]
  },
  {
   "cell_type": "code",
   "execution_count": null,
   "id": "c48daff3-549f-4931-b0f3-d7c5df4c2e25",
   "metadata": {},
   "outputs": [],
   "source": [
    "def plot_best_models(db_conn, model_set_ids, label_groups, baselines, metric='precision', county='joco', figsize=(14, 10), legend=True, ylim=[-0.025, 0.70]):\n",
    "    model_set_id_str = ','.join([\"'\" + str(id) + \"'\" for id in model_set_ids])\n",
    "    label_group_str = ','.join([\"'\" + label + \"'\" for label in label_groups])\n",
    "    \n",
    "    \n",
    "    if county == 'doco':\n",
    "        earliest_date = '2019-09-01'\n",
    "        tablename = 'test_evaluations_doco_fixed'\n",
    "    else:\n",
    "        earliest_date = '2017-12-01'\n",
    "        tablename = 'test_evaluations'\n",
    "    \n",
    "    query = f'''\n",
    "    select * from results.{tablename} te\n",
    "        join results.models m\n",
    "        using(model_id)\n",
    "        join results.model_sets ms\n",
    "        using(model_set_id)\n",
    "        join results.experiments e\n",
    "        using(experiment_id)\n",
    "        where metric='{metric}'\n",
    "        and county = '{county}'\n",
    "        and model_set_id in ({model_set_id_str})\n",
    "        and label_group in ({label_group_str})\n",
    "        and as_of_date >= '{earliest_date}'::date;\n",
    "    '''\n",
    "\n",
    "    df = pd.read_sql(query, db_conn)\n",
    "    \n",
    "    # NOTE: Add lower limit for Douglas\n",
    "    \n",
    "    county_k = 75 if county == 'joco' else 40\n",
    "    df = df[df['county_k'] == county_k]\n",
    "    \n",
    "    # Only get those rows where model_set id and label group match\n",
    "    df_shortened = []\n",
    "    for id, label, is_baseline in zip(model_set_ids, label_groups, baselines):\n",
    "        res = df[(df['model_set_id'] == id) & (df['label_group'] == label)].copy()\n",
    "        res.loc[:, ['Type']] = 'Baseline' if is_baseline else 'Model'\n",
    "        df_shortened.append(res)\n",
    "        \n",
    "    df = pd.concat(df_shortened)\n",
    "    df['as_of_date'] = pd.to_datetime(df['as_of_date'], format='%Y-%m-%d')\n",
    "    \n",
    "    if county == 'doco':\n",
    "        df = df[df['as_of_date'] > '2019-06-01']\n",
    "    \n",
    "    df = df.sort_values(by=['as_of_date'], ascending=True)\n",
    "    df['As of date'] = df['as_of_date'].astype('string')\n",
    "    df['Label group'] = df['label_group']\n",
    "    \n",
    "    plt.clf()\n",
    "    plt.figure(figsize=figsize)\n",
    "    sns.set(font_scale=1.5)\n",
    "    sns.despine()\n",
    "    sns.set_style('white')\n",
    "    plt.rc(\"axes.spines\", top=False, right=False)\n",
    "\n",
    "    n_colors = df['Label group'].unique().size\n",
    "    palette = sns.color_palette('colorblind', n_colors=n_colors)\n",
    "    \n",
    "    p = sns.lineplot(\n",
    "        data=df, hue='Label group',\n",
    "        x='As of date', y='value',\n",
    "        style='Type', hue_order=sorted(LABEL_MAPPING.keys()),\n",
    "        style_order=['Model', 'Baseline'], lw=4, legend=legend,\n",
    "        palette=palette\n",
    "    )\n",
    "    county = 'Johnson' if county == 'joco' else 'Douglas'\n",
    "    title = county + ' county: ' + metric.capitalize() + ' across label groups'\n",
    "    \n",
    "    ylabel = metric.capitalize() + ' at ' + str(county_k)\n",
    "    plt.xticks(rotation=45)\n",
    "    p.set(ylabel=ylabel, ylim=ylim)\n",
    "    plt.title(title, fontsize=24)\n",
    "    \n",
    "    if legend:\n",
    "        legend = plt.legend(bbox_to_anchor=(1.02, 1), loc='upper left', borderaxespad=0, ncol=1, frameon=False)\n",
    "    \n",
    "    return p"
   ]
  },
  {
   "cell_type": "code",
   "execution_count": null,
   "id": "1c238285-17f4-446e-bd4c-19771a64664a",
   "metadata": {},
   "outputs": [],
   "source": [
    "p = plot_best_models(db_conn, df_joco.model_set_id, df_joco.label_group, df_joco.Baseline, county='joco', ylim=[-0.025, 0.80]);\n",
    "#p.get_figure().savefig('precision_johnson_label_group.eps', dpi=200, bbox_inches='tight')"
   ]
  },
  {
   "cell_type": "code",
   "execution_count": null,
   "id": "f6623d70-5985-421e-9fee-75db8d37ccf9",
   "metadata": {},
   "outputs": [],
   "source": [
    "#p.get_figure().savefig('precision_johnson_label_group.eps', dpi=200, bbox_inches='tight')"
   ]
  },
  {
   "cell_type": "code",
   "execution_count": null,
   "id": "48bf60a6-e033-4741-b201-30c05f2c4f4d",
   "metadata": {},
   "outputs": [],
   "source": [
    "best_doco['Baseline'] = False # Assumes that the best model never is a baseline\n",
    "best_doco_baselines['Baseline'] = True\n",
    "df_doco = pd.concat([best_doco, best_doco_baselines])"
   ]
  },
  {
   "cell_type": "code",
   "execution_count": null,
   "id": "d981b12c-35dd-4254-8eea-564d439db159",
   "metadata": {},
   "outputs": [],
   "source": [
    "p = plot_best_models(db_conn, df_doco.model_set_id, df_doco.label_group, df_doco.Baseline, county='doco', ylim=[-0.025, 0.80]);"
   ]
  },
  {
   "cell_type": "markdown",
   "id": "b2562941-ab66-429a-989a-101362237bfc",
   "metadata": {},
   "source": [
    "## Best Decision Trees\n",
    "Quick investigation of the best decision trees."
   ]
  },
  {
   "cell_type": "code",
   "execution_count": null,
   "id": "1f4db05a-f4f3-4a7f-8e66-d34cec99fdc0",
   "metadata": {},
   "outputs": [],
   "source": [
    "# Plot the best decision tree\n",
    "trees_douglas_potentially_fatal = load_models('DecisionTreeClassifier', 5157)\n",
    "trees_douglas_deaths = load_models('DecisionTreeClassifier', 661)\n",
    "trees_johnson_deaths = load_models('DecisionTreeClassifier', 886)\n",
    "\n",
    "def get_feature_importance(tree):\n",
    "    return tree.feature_names_in_[np.where(tree.feature_importances_)[0][0]]"
   ]
  },
  {
   "cell_type": "code",
   "execution_count": null,
   "id": "949f9b5a-14f6-456b-af35-b23f40523ae1",
   "metadata": {},
   "outputs": [],
   "source": [
    "# Tree for potentially fatal, Douglas county\n",
    "latest_tree_pf = load(os.path.join(MODELS_PATH, 'DecisionTreeClassifier_5157_22549.joblib'))\n",
    "\n",
    "# Tree for potentially fatal, Douglas county\n",
    "latest_tree_death_d = load(os.path.join(MODELS_PATH, 'DecisionTreeClassifier_661_1898.joblib'))\n",
    "\n",
    "# Tree for potentially fatal, Douglas county\n",
    "latest_tree_death_j = load(os.path.join(MODELS_PATH, 'DecisionTreeClassifier_886_3190.joblib'))"
   ]
  },
  {
   "cell_type": "code",
   "execution_count": null,
   "id": "ac62c487-80e7-4647-ab11-ecb9a17249ae",
   "metadata": {},
   "outputs": [],
   "source": [
    "plt.figure(figsize=(12,12))\n",
    "plot_tree(latest_tree_pf, feature_names=latest_tree_pf.feature_names_in_);"
   ]
  },
  {
   "cell_type": "code",
   "execution_count": null,
   "id": "0fac14a1-b64e-4041-9df2-6d06c6e37211",
   "metadata": {},
   "outputs": [],
   "source": [
    "plt.figure(figsize=(18,12))\n",
    "plot_tree(latest_tree_death_d, feature_names=latest_tree_death_d.feature_names_in_, fontsize=10);"
   ]
  },
  {
   "cell_type": "code",
   "execution_count": null,
   "id": "1620c42f-b275-491e-9ff0-2d7a8714b1ed",
   "metadata": {},
   "outputs": [],
   "source": [
    "[get_feature_importance(tree) for tree in best_trees]"
   ]
  },
  {
   "cell_type": "code",
   "execution_count": null,
   "id": "3ea3b61a-6f36-41ab-b2c3-83d553d0c2c8",
   "metadata": {},
   "outputs": [],
   "source": [
    "plt.figure(figsize=(18,12))\n",
    "plot_tree(latest_tree_death_j, feature_names=latest_tree_death_j.feature_names_in_, fontsize=10);"
   ]
  },
  {
   "cell_type": "code",
   "execution_count": null,
   "id": "5f26a5c0-4ce0-4655-bbe1-0cfa07661f9b",
   "metadata": {},
   "outputs": [],
   "source": []
  }
 ],
 "metadata": {
  "kernelspec": {
   "display_name": "Python 3 (ipykernel)",
   "language": "python",
   "name": "python3"
  },
  "language_info": {
   "codemirror_mode": {
    "name": "ipython",
    "version": 3
   },
   "file_extension": ".py",
   "mimetype": "text/x-python",
   "name": "python",
   "nbconvert_exporter": "python",
   "pygments_lexer": "ipython3",
   "version": "3.10.4"
  }
 },
 "nbformat": 4,
 "nbformat_minor": 5
}
