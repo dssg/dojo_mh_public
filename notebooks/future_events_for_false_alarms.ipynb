{
 "cells": [
  {
   "cell_type": "code",
   "execution_count": null,
   "metadata": {},
   "outputs": [],
   "source": [
    "import os\n",
    "import numpy as np\n",
    "import pandas as pd\n",
    "import matplotlib.pyplot as plt\n",
    "import datetime as datetime\n",
    "import seaborn as sns\n",
    "from sklearn.metrics import confusion_matrix, ConfusionMatrixDisplay\n",
    "from utils.helpers import get_database_connection, get_label_from_experiment_table\n",
    "from utils.constants import PREDICTIONS_DIR\n",
    "from postmodeling.evaluation import get_test_pred_labels_from_csv\n",
    "from dateutil.relativedelta import relativedelta\n"
   ]
  },
  {
   "cell_type": "code",
   "execution_count": null,
   "metadata": {},
   "outputs": [],
   "source": [
    "# Functioned needed\n",
    "\n",
    "def get_predictions_thresholded_k(test_predictions, doco_k=40, joco_k=75):\n",
    "    ''' Get test Predictions, but only up to the threshold k\n",
    "    '''\n",
    "    test_predictions_d = test_predictions[test_predictions['county'] == 'doco']\n",
    "    test_predictions_d_thr = test_predictions_d[test_predictions_d['county_k'] <= doco_k]\n",
    "\n",
    "    test_predictions_j = test_predictions[test_predictions['county'] == 'joco']\n",
    "    test_predictions_j_thr = test_predictions_j[test_predictions_j['county_k'] <= joco_k]\n",
    "\n",
    "    table = pd.concat([test_predictions_j_thr, test_predictions_d_thr], axis = 0)\n",
    "\n",
    "    return table\n",
    "\n",
    "def get_future_events(table_name, joid_list, event_date, as_of_date):\n",
    "    '''\n",
    "    Get all events in table_name for specified joids, after the date event_date\n",
    "    '''\n",
    "\n",
    "    query = f'''\n",
    "    select *\n",
    "    from {table_name}\n",
    "    where joid in {joid_list}\n",
    "    and {event_date} > '{as_of_date}'\n",
    "    '''\n",
    "    future_events = pd.read_sql(query, db_conn)\n",
    "\n",
    "    return future_events\n",
    "\n",
    "def get_date_range(start_date, month_jump):\n",
    "    ''' \n",
    "    Get a date range from start_date to the present (i.e. to use as bins for a histogram)\n",
    "    '''\n",
    "    date_list = [start_date]\n",
    "    while date_list[-1] < datetime.date.today() - relativedelta(months=month_jump):\n",
    "        date_list.append(date_list[-1] + relativedelta(months=month_jump))\n",
    "\n",
    "    return date_list\n",
    "\n",
    "def plot_ER_amb_events_over_time(data, filter_flag = None): \n",
    "    '''\n",
    "    Plot a histogram for events over time\n",
    "    '''\n",
    "    plt.figure(figsize=(10,3))\n",
    "        \n",
    "    if filter_flag != None:\n",
    "        data = data[data[filter_flag] == True]\n",
    "    data['event_date'].hist(bins = get_date_range(as_of_date, 1))\n",
    "    plt.gca().set_xlim(left = as_of_date)\n",
    "    plt.xticks(get_date_range(as_of_date, 3))\n",
    "    plt.grid(visible=None)\n",
    "\n",
    "    if filter_flag == None:\n",
    "        flag_title = 'All Ambulance and ER Events'\n",
    "    else:\n",
    "        flag_title = filter_flag\n",
    "\n",
    "    plt.title('Counts of ' + flag_title.replace('_', ' ').title() + ' for False Alarms Post As-Of-Date')\n",
    "    plt.show\n",
    "\n",
    "def get_all_flagged_events():\n",
    "    '''\n",
    "    Join the ambulance and ER visits together into one dataframe\n",
    "    '''\n",
    "\n",
    "    ambulance_runs_false_alarms = get_future_events('semantic.ambulance_runs', joids_str,'event_date', as_of_date)\n",
    "    ambulance_runs_false_alarms = ambulance_runs_false_alarms[['joid', 'event_date'] +  non_fatal_flags]\n",
    "\n",
    "    ER_visits_false_alarms = get_future_events('clean.joco110hsccclientmisc2eadiagnosis', joids_str, 'admission_date',as_of_date)\n",
    "    ER_visits_false_alarms = ER_visits_false_alarms[['joid', 'admission_date'] +  non_fatal_flags]\n",
    "    ER_visits_false_alarms = ER_visits_false_alarms.rename(columns={'admission_date':'event_date'})\n",
    "\n",
    "    all_flagged_events = pd.concat([ambulance_runs_false_alarms,ER_visits_false_alarms ], axis = 0)\n",
    "    all_flagged_events.reset_index(inplace = True)\n",
    "\n",
    "    return all_flagged_events\n"
   ]
  },
  {
   "cell_type": "markdown",
   "metadata": {},
   "source": [
    "Changeable parameters (experiment id, model_id). "
   ]
  },
  {
   "cell_type": "code",
   "execution_count": null,
   "metadata": {},
   "outputs": [],
   "source": [
    "#### CHANGE EXPERIMENT ID AS NEEDED ####\n",
    "experiment_id = 25\n",
    "modelid = 434\n",
    "########################################\n",
    "db_conn = get_database_connection() \n",
    "non_fatal_flags = ['suicidal_flag', 'suicide_attempt_flag', 'drug_flag', 'alcohol_flag', 'other_mental_crisis_flag']\n",
    "all_flags = non_fatal_flags + ['death_flag']"
   ]
  },
  {
   "cell_type": "code",
   "execution_count": null,
   "metadata": {},
   "outputs": [],
   "source": [
    "# get the predictions:\n",
    "test_predictions = get_test_pred_labels_from_csv(modelid, PREDICTIONS_DIR)\n",
    "thresholded_predictions = get_predictions_thresholded_k(test_predictions)\n",
    "thresholded_predictions = get_predictions_thresholded_k(test_predictions)\n"
   ]
  },
  {
   "cell_type": "code",
   "execution_count": null,
   "metadata": {},
   "outputs": [],
   "source": [
    "# print some basic information about this model\n",
    "label = get_label_from_experiment_table(db_conn, experiment_id) \n",
    "as_of_date = datetime.datetime.strptime(thresholded_predictions['as_of_date'].unique()[0], '%Y-%m-%d').date()\n",
    "label_end_date = as_of_date + relativedelta(months=6)\n",
    "\n",
    "print('LABELS\\nlabel includes ' + ', '.join(l for l in label).lower() +'\\n\\n')\n",
    "print('VALIDATION\\nvalidation period goes from ' + str(as_of_date) + ' until ' + str(label_end_date))\n"
   ]
  },
  {
   "cell_type": "code",
   "execution_count": null,
   "metadata": {},
   "outputs": [],
   "source": [
    "\n",
    "# get just the people who the model is wrong about (i.e. predicted the outcome, but they didn't have it in the time period)\n",
    "false_predictions_df = thresholded_predictions[thresholded_predictions['label'] == False]\n",
    "false_predictions_list = list(false_predictions_df['joid'])\n",
    "joids_str = '(' + ', '.join([str(i) for i in false_predictions_list]) + ')'\n",
    " \n",
    "all_flagged_events = get_all_flagged_events().reset_index(drop = True).drop(columns = 'index')\n",
    "all_flagged_events['death_flag'] = False # add a death flag (all these are automatically set to false)"
   ]
  },
  {
   "cell_type": "code",
   "execution_count": null,
   "metadata": {},
   "outputs": [],
   "source": [
    "# get all the deaths, then join it with the non-death events:\n",
    "\n",
    "deaths_false_alarms_d = get_future_events('clean.jocodcmexoverdosessuicides', joids_str,'dateofdeath', as_of_date)\n",
    "deaths_false_alarms_j = get_future_events('clean.jocojcmexoverdosessuicides', joids_str,'dateofdeath', as_of_date)\n",
    "\n",
    "all_future_deaths = pd.concat([deaths_false_alarms_d, deaths_false_alarms_j], axis = 0).rename(columns= {'dateofdeath':'event_date'}).reset_index()\n",
    "all_future_deaths = all_future_deaths[['joid', 'event_date']]\n",
    "all_future_deaths['death_flag'] = True\n",
    "all_future_deaths\n",
    "\n",
    "all_flagged_events = pd.merge(all_flagged_events, all_future_deaths, how = 'outer' , on = ['joid', 'event_date', 'death_flag']).fillna(False)"
   ]
  },
  {
   "cell_type": "code",
   "execution_count": null,
   "metadata": {},
   "outputs": [],
   "source": [
    "# get summary counts of everything. Note that these are not per person, but per flag\n",
    "future_client_events = get_future_events('semantic.client_events', joids_str,'event_date', as_of_date)\n",
    "summary_counts = all_flagged_events[all_flags].sum()\n",
    "print('SUMMARY: COUNTS OF ALL FLAGS IN FUTURE OF AS OF DATE\\n')\n",
    "print(summary_counts)\n"
   ]
  },
  {
   "cell_type": "code",
   "execution_count": null,
   "metadata": {},
   "outputs": [],
   "source": [
    "# plot the # of occurances for each flag over time. \n",
    "\n",
    "for filter_flag in [None] + all_flags:\n",
    "\n",
    "    plot_ER_amb_events_over_time(all_flagged_events, filter_flag = filter_flag)\n"
   ]
  },
  {
   "cell_type": "code",
   "execution_count": null,
   "metadata": {},
   "outputs": [],
   "source": [
    "# Convert dataframe to by-joid\n",
    "false_alarm_by_joid = all_flagged_events.groupby('joid')[all_flags].sum().reset_index()\n",
    "false_alarm_by_joid = pd.merge(false_predictions_df[['joid']], false_alarm_by_joid, on ='joid', how = 'left').fillna(0)\n",
    "columns = list(false_alarm_by_joid.columns)\n",
    "columns.remove('joid')\n",
    "false_alarm_by_joid['any'] = false_alarm_by_joid[columns].sum(axis = 1).astype(bool)\n"
   ]
  },
  {
   "cell_type": "code",
   "execution_count": null,
   "metadata": {},
   "outputs": [],
   "source": [
    "# Get column for if the person ever had one of the crises post as-of-date\n",
    "sum_with_crises = np.sum(false_alarm_by_joid['any'] != False)\n",
    "total_num_people = false_alarm_by_joid.shape[0]\n",
    "\n",
    "# print summary for people \n",
    "print(str(sum_with_crises)+ ' people out of ' + str(total_num_people) + ' total \"false alarms\" had a behavioral crisis in the future')"
   ]
  },
  {
   "cell_type": "code",
   "execution_count": null,
   "metadata": {},
   "outputs": [],
   "source": [
    "\n",
    "print('Counts of each flag for all the \"false alarms\" in the future of the as-of-date')\n",
    "pd.set_option('display.max_rows', None)\n",
    "false_alarm_by_joid\n"
   ]
  }
 ],
 "metadata": {
  "kernelspec": {
   "display_name": "Python 3 (ipykernel)",
   "language": "python",
   "name": "python3"
  },
  "language_info": {
   "codemirror_mode": {
    "name": "ipython",
    "version": 3
   },
   "file_extension": ".py",
   "mimetype": "text/x-python",
   "name": "python",
   "nbconvert_exporter": "python",
   "pygments_lexer": "ipython3",
   "version": "3.10.4"
  },
  "vscode": {
   "interpreter": {
    "hash": "3b13c6f641af22525ec1bb5ca2867395e8a50d86a8864b59bafbc48fdc461750"
   }
  }
 },
 "nbformat": 4,
 "nbformat_minor": 4
}
