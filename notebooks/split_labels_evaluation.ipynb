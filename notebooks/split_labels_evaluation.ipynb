{
 "cells": [
  {
   "cell_type": "markdown",
   "metadata": {},
   "source": [
    "### What are we actually predicting? "
   ]
  },
  {
   "cell_type": "code",
   "execution_count": null,
   "metadata": {},
   "outputs": [],
   "source": [
    "import pandas as pd\n",
    "import yaml\n",
    "from os.path import join\n",
    "import numpy as np\n",
    "from matplotlib import pyplot as plt\n",
    "import seaborn as sns\n",
    "import datetime as datetime\n",
    "from dateutil.relativedelta import relativedelta\n",
    "import matplotlib.pyplot as plt\n",
    "import postmodeling.analyze_labels as analyze_labels\n",
    "from datetime import datetime\n",
    "from utils.helpers import get_database_connection\n",
    "from utils.constants import PREDICTIONS_DIR, CONFIGS_PATH\n",
    "from postmodeling.evaluation import get_test_pred_labels_from_csv, get_models_info, get_model_info_from_experiment_ids\n"
   ]
  },
  {
   "cell_type": "code",
   "execution_count": null,
   "metadata": {},
   "outputs": [],
   "source": [
    "# Get database connection\n",
    "db_conn = get_database_connection()\n",
    "\n",
    "# Set variables of interest\n",
    "model_ids = [434, 418, 145, 146, 433]\n",
    "model_id = 434\n",
    "experiment_ids = [151]\n",
    "joco_k = 75\n",
    "doco_k = 40\n",
    "\n",
    "# get validation period\n",
    "config_path = join(CONFIGS_PATH, 'config_both_lr-dt-bl_label_12345611121314_both.yaml')\n",
    "with open(config_path) as f:\n",
    "    config = yaml.safe_load(f)\n",
    "config = config['labels']\n",
    "months_future = str(config['months_future'])\n"
   ]
  },
  {
   "cell_type": "code",
   "execution_count": null,
   "metadata": {},
   "outputs": [],
   "source": [
    "# Get tables for just the relevant validation period\n",
    "joco_df, doco_df, both_df = analyze_labels.get_preds_split_labels(db_conn, model_ids)\n",
    "\n",
    "# Get tables for all time in the future:\n",
    "joco_df_all, doco_df_all, both_df_all = analyze_labels.get_preds_split_labels(db_conn, model_ids, label_tablename = 'split_labels_all_time')\n"
   ]
  },
  {
   "cell_type": "markdown",
   "metadata": {},
   "source": [
    "### Counts of the Number of People with each type of label"
   ]
  },
  {
   "cell_type": "code",
   "execution_count": null,
   "metadata": {},
   "outputs": [],
   "source": [
    "\n",
    "print('\\nCOUNTS FOR ALL TIME IN FUTURE OF THE AS OF DATE')\n",
    "\n",
    "label_counts_all = analyze_labels.get_label_aggregations(both_df_all)\n",
    "display(label_counts_all)\n",
    "\n",
    "\n",
    "print('COUNTS FOR THE VALIDATION PERIOD OF ' + months_future + ' MONTHS')\n",
    "label_counts = analyze_labels.get_label_aggregations(both_df)\n",
    "display(label_counts)\n",
    "\n",
    "\n"
   ]
  },
  {
   "cell_type": "code",
   "execution_count": null,
   "metadata": {},
   "outputs": [],
   "source": [
    "# Plot for all time in the future of the as of date:\n",
    "\n",
    "p = analyze_labels.plot_split_labels(label_counts_all, model_id, months_future = 'any')\n",
    "\n",
    "\n",
    "# Plot just within the validation window:\n",
    "p = analyze_labels.plot_split_labels(label_counts, model_id, months_future = months_future, xmax = p.get_xlim()[1])\n"
   ]
  },
  {
   "cell_type": "markdown",
   "metadata": {},
   "source": [
    "### Counts of each flag\n",
    "i.e. could have multiple counts per person, if they have a qualifying event multiple times"
   ]
  },
  {
   "cell_type": "code",
   "execution_count": null,
   "metadata": {},
   "outputs": [],
   "source": [
    "# Get the data for the specific model\n",
    "specific_model_df = both_df[both_df['model_id'] == model_id].sort_values('county_k')\n",
    "\n",
    "# Get the joid list for everyone below k\n",
    "joid_list = list(specific_model_df['joid'])\n",
    "\n",
    "# Get the as of date for that model_id\n",
    "as_of_date = specific_model_df['as_of_date'].dt.date.unique()[0]\n",
    "\n"
   ]
  },
  {
   "cell_type": "code",
   "execution_count": null,
   "metadata": {},
   "outputs": [],
   "source": [
    "# Print out for every ambulance, ER, or death event for each person, and the relevant flags for that event\n",
    "\n",
    "joid_list_all_future_events = analyze_labels.get_all_flagged_events(db_conn, joid_list, as_of_date)\n",
    "display(joid_list_all_future_events)\n",
    "\n"
   ]
  },
  {
   "cell_type": "code",
   "execution_count": null,
   "metadata": {},
   "outputs": [],
   "source": [
    "# Print a table with the amounts for each flag\n",
    "event_counts = pd.DataFrame(joid_list_all_future_events.sum(axis = 0).drop(labels = ['joid', 'source'])).rename(columns = {0: 'all_time'})\n",
    "\n",
    "validation_end_date = as_of_date + relativedelta(months=int(months_future))\n",
    "joid_list_all_future_events_end = analyze_labels.get_all_flagged_events(db_conn, joid_list, validation_end_date)\n",
    "event_counts['validation_period'] = joid_list_all_future_events.sum(axis = 0).drop(labels = ['joid', 'source']) - joid_list_all_future_events_end.sum(axis = 0).drop(labels = ['joid', 'source']) \n",
    "display(event_counts)"
   ]
  }
 ],
 "metadata": {
  "kernelspec": {
   "display_name": "Python 3 (ipykernel)",
   "language": "python",
   "name": "python3"
  },
  "language_info": {
   "codemirror_mode": {
    "name": "ipython",
    "version": 3
   },
   "file_extension": ".py",
   "mimetype": "text/x-python",
   "name": "python",
   "nbconvert_exporter": "python",
   "pygments_lexer": "ipython3",
   "version": "3.10.4"
  },
  "vscode": {
   "interpreter": {
    "hash": "3b13c6f641af22525ec1bb5ca2867395e8a50d86a8864b59bafbc48fdc461750"
   }
  }
 },
 "nbformat": 4,
 "nbformat_minor": 4
}
