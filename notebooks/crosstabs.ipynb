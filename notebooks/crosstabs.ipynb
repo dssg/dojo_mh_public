{
 "cells": [
  {
   "cell_type": "markdown",
   "metadata": {},
   "source": [
    "### Model Evaluation"
   ]
  },
  {
   "cell_type": "code",
   "execution_count": null,
   "metadata": {},
   "outputs": [],
   "source": [
    "import numpy as np\n",
    "import pandas as pd\n",
    "from sklearn.metrics import confusion_matrix, ConfusionMatrixDisplay\n",
    "from utils.helpers import get_database_connection\n",
    "from postmodeling.evaluation import *"
   ]
  },
  {
   "cell_type": "code",
   "execution_count": null,
   "metadata": {},
   "outputs": [],
   "source": [
    "db_conn = get_database_connection()"
   ]
  },
  {
   "cell_type": "code",
   "execution_count": null,
   "metadata": {},
   "outputs": [],
   "source": [
    "# Params\n",
    "model_id = 433\n",
    "joco_k = 75\n",
    "doco_k = 40\n",
    "threshold = 0.01\n",
    "as_of_date = '2021-09-01'"
   ]
  },
  {
   "cell_type": "markdown",
   "metadata": {},
   "source": [
    "## Confusion Matrices"
   ]
  },
  {
   "cell_type": "code",
   "execution_count": null,
   "metadata": {},
   "outputs": [],
   "source": [
    "# Confusion matrix: Both counties\n",
    "model_results = get_test_pred_labels_from_csv(model_id)\n",
    "\n",
    "if len(model_results) > 0:\n",
    "    cf = get_confusion_matrix(model_results, doco_k=doco_k, joco_k=joco_k)\n",
    "    plt_cf = plot_confusion_matrix(cf)\n",
    "    plt_cf.plot()\n",
    "else: \n",
    "    print(\"No results available from selected model_id: \", model_id)"
   ]
  },
  {
   "cell_type": "code",
   "execution_count": null,
   "metadata": {},
   "outputs": [],
   "source": [
    "# Confusion matrix: Johnson County\n",
    "if len(model_results) > 0:\n",
    "    cf = get_confusion_matrix(model_results, doco_k=None, joco_k=joco_k)\n",
    "    plt_cf = plot_confusion_matrix(cf)\n",
    "    plt_cf.plot()\n",
    "else:\n",
    "    print(\"No results available from selected model_id: \", model_id)"
   ]
  },
  {
   "cell_type": "code",
   "execution_count": null,
   "metadata": {},
   "outputs": [],
   "source": [
    "# Confusion matrix: Douglas County\n",
    "if len(model_results) > 0:\n",
    "    cf = get_confusion_matrix(model_results, doco_k=doco_k, joco_k=None)\n",
    "    plt_cf = plot_confusion_matrix(cf)\n",
    "    plt_cf.plot()\n",
    "else:\n",
    "    print(\"No results available from selected model_id: \", model_id)"
   ]
  },
  {
   "cell_type": "markdown",
   "metadata": {},
   "source": [
    "## Feature-Labels Crosstabs"
   ]
  },
  {
   "cell_type": "code",
   "execution_count": null,
   "metadata": {},
   "outputs": [],
   "source": [
    "# Crosstabs: categorical demographics\n",
    "features_table = 'demographics_cat'\n",
    "features_test_pred = get_features_test_pred(db_conn, model_id, features_table, doco_k=doco_k, joco_k=joco_k)\n",
    "features_test_pred = features_test_pred.fillna('Missing')"
   ]
  },
  {
   "cell_type": "markdown",
   "metadata": {},
   "source": [
    "### Sex"
   ]
  },
  {
   "cell_type": "code",
   "execution_count": null,
   "metadata": {},
   "outputs": [],
   "source": [
    "# Sex: Both counties \n",
    "label_crosstab, pred_crosstab = create_crosstabs(features_test_pred, \"dem_sex\")\n",
    "print(\"SEX:\")\n",
    "print('----------------------------------')\n",
    "print(label_crosstab)\n",
    "print('----------------------------------')\n",
    "print(pred_crosstab)"
   ]
  },
  {
   "cell_type": "code",
   "execution_count": null,
   "metadata": {},
   "outputs": [],
   "source": [
    "# Sex: Johnson County\n",
    "label_crosstab, pred_crosstab = create_crosstabs(features_test_pred.loc[features_test_pred['county'] == 'joco'], \"dem_sex\")\n",
    "print(\"Johnson County - SEX:\")\n",
    "print('----------------------------------')\n",
    "print(label_crosstab)\n",
    "print('----------------------------------')\n",
    "print(pred_crosstab)"
   ]
  },
  {
   "cell_type": "code",
   "execution_count": null,
   "metadata": {},
   "outputs": [],
   "source": [
    "# Sex: Douglas County\n",
    "label_crosstab, pred_crosstab = create_crosstabs(features_test_pred.loc[features_test_pred['county'] == 'doco'], \"dem_sex\")\n",
    "print(\"Douglas County - SEX:\")\n",
    "print('----------------------------------')\n",
    "print(label_crosstab)\n",
    "print('----------------------------------')\n",
    "print(pred_crosstab)"
   ]
  },
  {
   "cell_type": "markdown",
   "metadata": {},
   "source": [
    "## Race"
   ]
  },
  {
   "cell_type": "code",
   "execution_count": null,
   "metadata": {},
   "outputs": [],
   "source": [
    "# Race: Both Counties\n",
    "label_crosstab, pred_crosstab = create_crosstabs(features_test_pred, \"dem_race\")\n",
    "print(\"RACE:\")\n",
    "print('-----------------------------------------------------')\n",
    "print(label_crosstab)\n",
    "print('-----------------------------------------------------')\n",
    "print(pred_crosstab)"
   ]
  },
  {
   "cell_type": "code",
   "execution_count": null,
   "metadata": {},
   "outputs": [],
   "source": [
    "# Race: Johnson County\n",
    "label_crosstab, pred_crosstab = create_crosstabs(features_test_pred.loc[features_test_pred['county'] == 'joco'], \"dem_race\")\n",
    "print(\"Johnson County - RACE:\")\n",
    "print('-----------------------------------------------------')\n",
    "print(label_crosstab)\n",
    "print('-----------------------------------------------------')\n",
    "print(pred_crosstab)"
   ]
  },
  {
   "cell_type": "code",
   "execution_count": null,
   "metadata": {},
   "outputs": [],
   "source": [
    "# Race: Douglas County\n",
    "label_crosstab, pred_crosstab = create_crosstabs(features_test_pred.loc[features_test_pred['county'] == 'doco'], \"dem_race\")\n",
    "print(\"Douglas County - RACE:\")\n",
    "print('-----------------------------------------------------')\n",
    "print(label_crosstab)\n",
    "print('-----------------------------------------------------')\n",
    "print(pred_crosstab)"
   ]
  },
  {
   "cell_type": "markdown",
   "metadata": {},
   "source": [
    "## Age"
   ]
  },
  {
   "cell_type": "code",
   "execution_count": null,
   "metadata": {},
   "outputs": [],
   "source": [
    "# Crosstabs: demographics numeric \n",
    "features_table = 'demographics_num'\n",
    "features_test_pred = get_features_test_pred(db_conn, model_id, features_table, doco_k=doco_k, joco_k=joco_k)"
   ]
  },
  {
   "cell_type": "code",
   "execution_count": null,
   "metadata": {},
   "outputs": [],
   "source": [
    "# Age spliting buckets\n",
    "bins = [0.0, 20.0, 40.0, 65.0, np.inf]\n",
    "names = ['(1) <20', '(2) 21-40', '(3) 41-65', '(4) 66+']\n",
    "split_tuple = (bins, names)"
   ]
  },
  {
   "cell_type": "code",
   "execution_count": null,
   "metadata": {},
   "outputs": [],
   "source": [
    "# Age: Both Counties\n",
    "label_crosstab, pred_crosstab = create_crosstabs(features_test_pred, \"dem_age\", split_tuple)\n",
    "print(\"AGE:\")\n",
    "print('-----------------------------------------------------')\n",
    "print(label_crosstab)\n",
    "print('-----------------------------------------------------')\n",
    "print(pred_crosstab)"
   ]
  },
  {
   "cell_type": "code",
   "execution_count": null,
   "metadata": {},
   "outputs": [],
   "source": [
    "# Age: Johnson County\n",
    "label_crosstab, pred_crosstab = create_crosstabs(features_test_pred.loc[features_test_pred['county'] == 'joco'], \"dem_age\", split_tuple)\n",
    "print(\"Johnson County - AGE:\")\n",
    "print('-----------------------------------------------------')\n",
    "print(label_crosstab)\n",
    "print('-----------------------------------------------------')\n",
    "print(pred_crosstab)"
   ]
  },
  {
   "cell_type": "code",
   "execution_count": null,
   "metadata": {},
   "outputs": [],
   "source": [
    "# Age: Douglas County\n",
    "label_crosstab, pred_crosstab = create_crosstabs(features_test_pred.loc[features_test_pred['county'] == 'doco'], \"dem_age\", split_tuple)\n",
    "print(\"Douglas County - AGE:\")\n",
    "print('-----------------------------------------------------')\n",
    "print(label_crosstab)\n",
    "print('-----------------------------------------------------')\n",
    "print(pred_crosstab)"
   ]
  },
  {
   "cell_type": "markdown",
   "metadata": {},
   "source": [
    "## Days since last event"
   ]
  },
  {
   "cell_type": "code",
   "execution_count": null,
   "metadata": {},
   "outputs": [],
   "source": [
    "# Crosstabs: demographics numeric \n",
    "features_table = 'client_events_num'\n",
    "features_test_pred = get_features_test_pred(db_conn, model_id, features_table, doco_k=doco_k, joco_k=joco_k)"
   ]
  },
  {
   "cell_type": "code",
   "execution_count": null,
   "metadata": {},
   "outputs": [],
   "source": [
    "# Age spliting buckets\n",
    "bins = [0.0, 50.0, 100.0, 200.0, 400.0, 800.0, 1600.0, np.inf]\n",
    "names = ['1.<50', '2.50-100', '3.100-200', '4.200-400', '5.400-800', '6.800-1600', '7.1600+']\n",
    "split_tuple = (bins, names)"
   ]
  },
  {
   "cell_type": "code",
   "execution_count": null,
   "metadata": {},
   "outputs": [],
   "source": [
    "# Age: Both Counties\n",
    "label_crosstab, pred_crosstab = create_crosstabs(features_test_pred, \"event_days_since_last\", split_tuple)\n",
    "print(\"AGE:\")\n",
    "print('-----------------------------------------------------')\n",
    "print(label_crosstab)\n",
    "print('-----------------------------------------------------')\n",
    "print(pred_crosstab)"
   ]
  },
  {
   "cell_type": "code",
   "execution_count": null,
   "metadata": {},
   "outputs": [],
   "source": []
  }
 ],
 "metadata": {
  "kernelspec": {
   "display_name": "Python 3 (ipykernel)",
   "language": "python",
   "name": "python3"
  },
  "language_info": {
   "codemirror_mode": {
    "name": "ipython",
    "version": 3
   },
   "file_extension": ".py",
   "mimetype": "text/x-python",
   "name": "python",
   "nbconvert_exporter": "python",
   "pygments_lexer": "ipython3",
   "version": "3.10.4"
  },
  "vscode": {
   "interpreter": {
    "hash": "31f2aee4e71d21fbe5cf8b01ff0e069b9275f58929596ceb00d14d90e3e16cd6"
   }
  }
 },
 "nbformat": 4,
 "nbformat_minor": 4
}
